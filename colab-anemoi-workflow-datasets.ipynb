{
  "cells": [
    {
      "cell_type": "markdown",
      "metadata": {
        "id": "view-in-github",
        "colab_type": "text"
      },
      "source": [
        "<a href=\"https://colab.research.google.com/github/andrewjustin/anemoi-house-workflow/blob/master/colab-anemoi-workflow-datasets.ipynb\" target=\"_parent\"><img src=\"https://colab.research.google.com/assets/colab-badge.svg\" alt=\"Open In Colab\"/></a>"
      ]
    },
    {
      "cell_type": "markdown",
      "id": "7bb07c0c-6e0d-47b1-b1cd-ffe918a41c2d",
      "metadata": {
        "id": "7bb07c0c-6e0d-47b1-b1cd-ffe918a41c2d"
      },
      "source": [
        "# Generating Datasets with ufs2arco for Anemoi Model Training\n",
        "\n",
        "##### This notebook will guide you through the process of generating training, validation, and testing datasets for Anemoi models.\n",
        "\n",
        "##### For questions, please contact andrew.justin@noaa.gov."
      ]
    },
    {
      "cell_type": "markdown",
      "id": "dd9d93ea-ffbb-4f4f-9fa7-423588461c90",
      "metadata": {
        "id": "dd9d93ea-ffbb-4f4f-9fa7-423588461c90"
      },
      "source": [
        "## 1) Environment Setup"
      ]
    },
    {
      "cell_type": "code",
      "execution_count": 10,
      "id": "6333bcd8-1198-487d-bf89-9839c537c324",
      "metadata": {
        "scrolled": true,
        "id": "6333bcd8-1198-487d-bf89-9839c537c324",
        "outputId": "a72a1651-6846-44e1-a5ca-209fdcdc7db6",
        "colab": {
          "base_uri": "https://localhost:8080/"
        }
      },
      "outputs": [
        {
          "output_type": "stream",
          "name": "stdout",
          "text": [
            "Requirement already satisfied: ufs2arco==0.6 in /usr/local/lib/python3.11/dist-packages (0.6.0)\n",
            "Requirement already satisfied: mpi4py in /usr/local/lib/python3.11/dist-packages (4.0.3)\n",
            "Requirement already satisfied: numpy in /usr/local/lib/python3.11/dist-packages (from ufs2arco==0.6) (2.0.2)\n",
            "Requirement already satisfied: xarray in /usr/local/lib/python3.11/dist-packages (from ufs2arco==0.6) (2025.3.1)\n",
            "Requirement already satisfied: cf_xarray in /usr/local/lib/python3.11/dist-packages (from ufs2arco==0.6) (0.10.6)\n",
            "Requirement already satisfied: cftime in /usr/local/lib/python3.11/dist-packages (from ufs2arco==0.6) (1.6.4.post1)\n",
            "Requirement already satisfied: netCDF4 in /usr/local/lib/python3.11/dist-packages (from ufs2arco==0.6) (1.7.2)\n",
            "Requirement already satisfied: h5netcdf in /usr/local/lib/python3.11/dist-packages (from ufs2arco==0.6) (1.6.1)\n",
            "Requirement already satisfied: zarr<3 in /usr/local/lib/python3.11/dist-packages (from ufs2arco==0.6) (2.18.7)\n",
            "Requirement already satisfied: cfgrib in /usr/local/lib/python3.11/dist-packages (from ufs2arco==0.6) (0.9.15.0)\n",
            "Requirement already satisfied: bottleneck in /usr/local/lib/python3.11/dist-packages (from ufs2arco==0.6) (1.4.2)\n",
            "Requirement already satisfied: dask[complete] in /usr/local/lib/python3.11/dist-packages (from ufs2arco==0.6) (2024.12.1)\n",
            "Requirement already satisfied: fsspec in /usr/local/lib/python3.11/dist-packages (from ufs2arco==0.6) (2025.3.2)\n",
            "Requirement already satisfied: s3fs in /usr/local/lib/python3.11/dist-packages (from ufs2arco==0.6) (2025.3.2)\n",
            "Requirement already satisfied: gcsfs in /usr/local/lib/python3.11/dist-packages (from ufs2arco==0.6) (2025.3.2)\n",
            "Requirement already satisfied: asciitree in /usr/local/lib/python3.11/dist-packages (from zarr<3->ufs2arco==0.6) (0.3.3)\n",
            "Requirement already satisfied: fasteners in /usr/local/lib/python3.11/dist-packages (from zarr<3->ufs2arco==0.6) (0.19)\n",
            "Requirement already satisfied: numcodecs!=0.14.0,!=0.14.1,<0.16,>=0.10.0 in /usr/local/lib/python3.11/dist-packages (from zarr<3->ufs2arco==0.6) (0.15.1)\n",
            "Requirement already satisfied: packaging>=23.2 in /usr/local/lib/python3.11/dist-packages (from xarray->ufs2arco==0.6) (24.2)\n",
            "Requirement already satisfied: pandas>=2.1 in /usr/local/lib/python3.11/dist-packages (from xarray->ufs2arco==0.6) (2.2.2)\n",
            "Requirement already satisfied: attrs>=19.2 in /usr/local/lib/python3.11/dist-packages (from cfgrib->ufs2arco==0.6) (25.3.0)\n",
            "Requirement already satisfied: click in /usr/local/lib/python3.11/dist-packages (from cfgrib->ufs2arco==0.6) (8.2.1)\n",
            "Requirement already satisfied: eccodes>=0.9.8 in /usr/local/lib/python3.11/dist-packages (from cfgrib->ufs2arco==0.6) (2.41.0)\n",
            "Requirement already satisfied: cloudpickle>=3.0.0 in /usr/local/lib/python3.11/dist-packages (from dask[complete]->ufs2arco==0.6) (3.1.1)\n",
            "Requirement already satisfied: partd>=1.4.0 in /usr/local/lib/python3.11/dist-packages (from dask[complete]->ufs2arco==0.6) (1.4.2)\n",
            "Requirement already satisfied: pyyaml>=5.3.1 in /usr/local/lib/python3.11/dist-packages (from dask[complete]->ufs2arco==0.6) (6.0.2)\n",
            "Requirement already satisfied: toolz>=0.10.0 in /usr/local/lib/python3.11/dist-packages (from dask[complete]->ufs2arco==0.6) (0.12.1)\n",
            "Requirement already satisfied: importlib_metadata>=4.13.0 in /usr/local/lib/python3.11/dist-packages (from dask[complete]->ufs2arco==0.6) (8.7.0)\n",
            "Requirement already satisfied: pyarrow>=14.0.1 in /usr/local/lib/python3.11/dist-packages (from dask[complete]->ufs2arco==0.6) (18.1.0)\n",
            "Requirement already satisfied: lz4>=4.3.2 in /usr/local/lib/python3.11/dist-packages (from dask[complete]->ufs2arco==0.6) (4.4.4)\n",
            "Requirement already satisfied: aiohttp!=4.0.0a0,!=4.0.0a1 in /usr/local/lib/python3.11/dist-packages (from gcsfs->ufs2arco==0.6) (3.11.15)\n",
            "Requirement already satisfied: decorator>4.1.2 in /usr/local/lib/python3.11/dist-packages (from gcsfs->ufs2arco==0.6) (4.4.2)\n",
            "Requirement already satisfied: google-auth>=1.2 in /usr/local/lib/python3.11/dist-packages (from gcsfs->ufs2arco==0.6) (2.38.0)\n",
            "Requirement already satisfied: google-auth-oauthlib in /usr/local/lib/python3.11/dist-packages (from gcsfs->ufs2arco==0.6) (1.2.2)\n",
            "Requirement already satisfied: google-cloud-storage in /usr/local/lib/python3.11/dist-packages (from gcsfs->ufs2arco==0.6) (2.19.0)\n",
            "Requirement already satisfied: requests in /usr/local/lib/python3.11/dist-packages (from gcsfs->ufs2arco==0.6) (2.32.3)\n",
            "Requirement already satisfied: h5py in /usr/local/lib/python3.11/dist-packages (from h5netcdf->ufs2arco==0.6) (3.14.0)\n",
            "Requirement already satisfied: certifi in /usr/local/lib/python3.11/dist-packages (from netCDF4->ufs2arco==0.6) (2025.6.15)\n",
            "Requirement already satisfied: aiobotocore<3.0.0,>=2.5.4 in /usr/local/lib/python3.11/dist-packages (from s3fs->ufs2arco==0.6) (2.23.0)\n",
            "Requirement already satisfied: aioitertools<1.0.0,>=0.5.1 in /usr/local/lib/python3.11/dist-packages (from aiobotocore<3.0.0,>=2.5.4->s3fs->ufs2arco==0.6) (0.12.0)\n",
            "Requirement already satisfied: botocore<1.38.28,>=1.38.23 in /usr/local/lib/python3.11/dist-packages (from aiobotocore<3.0.0,>=2.5.4->s3fs->ufs2arco==0.6) (1.38.27)\n",
            "Requirement already satisfied: python-dateutil<3.0.0,>=2.1 in /usr/local/lib/python3.11/dist-packages (from aiobotocore<3.0.0,>=2.5.4->s3fs->ufs2arco==0.6) (2.9.0.post0)\n",
            "Requirement already satisfied: jmespath<2.0.0,>=0.7.1 in /usr/local/lib/python3.11/dist-packages (from aiobotocore<3.0.0,>=2.5.4->s3fs->ufs2arco==0.6) (1.0.1)\n",
            "Requirement already satisfied: multidict<7.0.0,>=6.0.0 in /usr/local/lib/python3.11/dist-packages (from aiobotocore<3.0.0,>=2.5.4->s3fs->ufs2arco==0.6) (6.4.4)\n",
            "Requirement already satisfied: wrapt<2.0.0,>=1.10.10 in /usr/local/lib/python3.11/dist-packages (from aiobotocore<3.0.0,>=2.5.4->s3fs->ufs2arco==0.6) (1.17.2)\n",
            "Requirement already satisfied: aiohappyeyeballs>=2.3.0 in /usr/local/lib/python3.11/dist-packages (from aiohttp!=4.0.0a0,!=4.0.0a1->gcsfs->ufs2arco==0.6) (2.6.1)\n",
            "Requirement already satisfied: aiosignal>=1.1.2 in /usr/local/lib/python3.11/dist-packages (from aiohttp!=4.0.0a0,!=4.0.0a1->gcsfs->ufs2arco==0.6) (1.3.2)\n",
            "Requirement already satisfied: frozenlist>=1.1.1 in /usr/local/lib/python3.11/dist-packages (from aiohttp!=4.0.0a0,!=4.0.0a1->gcsfs->ufs2arco==0.6) (1.7.0)\n",
            "Requirement already satisfied: propcache>=0.2.0 in /usr/local/lib/python3.11/dist-packages (from aiohttp!=4.0.0a0,!=4.0.0a1->gcsfs->ufs2arco==0.6) (0.3.2)\n",
            "Requirement already satisfied: yarl<2.0,>=1.17.0 in /usr/local/lib/python3.11/dist-packages (from aiohttp!=4.0.0a0,!=4.0.0a1->gcsfs->ufs2arco==0.6) (1.20.1)\n",
            "Requirement already satisfied: cffi in /usr/local/lib/python3.11/dist-packages (from eccodes>=0.9.8->cfgrib->ufs2arco==0.6) (1.17.1)\n",
            "Requirement already satisfied: findlibs in /usr/local/lib/python3.11/dist-packages (from eccodes>=0.9.8->cfgrib->ufs2arco==0.6) (0.1.1)\n",
            "Requirement already satisfied: cachetools<6.0,>=2.0.0 in /usr/local/lib/python3.11/dist-packages (from google-auth>=1.2->gcsfs->ufs2arco==0.6) (5.5.2)\n",
            "Requirement already satisfied: pyasn1-modules>=0.2.1 in /usr/local/lib/python3.11/dist-packages (from google-auth>=1.2->gcsfs->ufs2arco==0.6) (0.4.2)\n",
            "Requirement already satisfied: rsa<5,>=3.1.4 in /usr/local/lib/python3.11/dist-packages (from google-auth>=1.2->gcsfs->ufs2arco==0.6) (4.9.1)\n",
            "Requirement already satisfied: zipp>=3.20 in /usr/local/lib/python3.11/dist-packages (from importlib_metadata>=4.13.0->dask[complete]->ufs2arco==0.6) (3.23.0)\n",
            "Requirement already satisfied: deprecated in /usr/local/lib/python3.11/dist-packages (from numcodecs!=0.14.0,!=0.14.1,<0.16,>=0.10.0->zarr<3->ufs2arco==0.6) (1.2.18)\n",
            "Requirement already satisfied: pytz>=2020.1 in /usr/local/lib/python3.11/dist-packages (from pandas>=2.1->xarray->ufs2arco==0.6) (2025.2)\n",
            "Requirement already satisfied: tzdata>=2022.7 in /usr/local/lib/python3.11/dist-packages (from pandas>=2.1->xarray->ufs2arco==0.6) (2025.2)\n",
            "Requirement already satisfied: locket in /usr/local/lib/python3.11/dist-packages (from partd>=1.4.0->dask[complete]->ufs2arco==0.6) (1.0.0)\n",
            "Requirement already satisfied: dask-expr<1.2,>=1.1 in /usr/local/lib/python3.11/dist-packages (from dask[complete]->ufs2arco==0.6) (1.1.21)\n",
            "Requirement already satisfied: distributed==2024.12.1 in /usr/local/lib/python3.11/dist-packages (from dask[complete]->ufs2arco==0.6) (2024.12.1)\n",
            "Requirement already satisfied: bokeh>=3.1.0 in /usr/local/lib/python3.11/dist-packages (from dask[complete]->ufs2arco==0.6) (3.7.3)\n",
            "Requirement already satisfied: jinja2>=2.10.3 in /usr/local/lib/python3.11/dist-packages (from dask[complete]->ufs2arco==0.6) (3.1.6)\n",
            "Requirement already satisfied: msgpack>=1.0.2 in /usr/local/lib/python3.11/dist-packages (from distributed==2024.12.1->dask[complete]->ufs2arco==0.6) (1.1.1)\n",
            "Requirement already satisfied: psutil>=5.8.0 in /usr/local/lib/python3.11/dist-packages (from distributed==2024.12.1->dask[complete]->ufs2arco==0.6) (5.9.5)\n",
            "Requirement already satisfied: sortedcontainers>=2.0.5 in /usr/local/lib/python3.11/dist-packages (from distributed==2024.12.1->dask[complete]->ufs2arco==0.6) (2.4.0)\n",
            "Requirement already satisfied: tblib>=1.6.0 in /usr/local/lib/python3.11/dist-packages (from distributed==2024.12.1->dask[complete]->ufs2arco==0.6) (3.1.0)\n",
            "Requirement already satisfied: tornado>=6.2.0 in /usr/local/lib/python3.11/dist-packages (from distributed==2024.12.1->dask[complete]->ufs2arco==0.6) (6.4.2)\n",
            "Requirement already satisfied: urllib3>=1.26.5 in /usr/local/lib/python3.11/dist-packages (from distributed==2024.12.1->dask[complete]->ufs2arco==0.6) (2.4.0)\n",
            "Requirement already satisfied: zict>=3.0.0 in /usr/local/lib/python3.11/dist-packages (from distributed==2024.12.1->dask[complete]->ufs2arco==0.6) (3.0.0)\n",
            "Requirement already satisfied: requests-oauthlib>=0.7.0 in /usr/local/lib/python3.11/dist-packages (from google-auth-oauthlib->gcsfs->ufs2arco==0.6) (2.0.0)\n",
            "Requirement already satisfied: google-api-core<3.0.0dev,>=2.15.0 in /usr/local/lib/python3.11/dist-packages (from google-cloud-storage->gcsfs->ufs2arco==0.6) (2.25.1)\n",
            "Requirement already satisfied: google-cloud-core<3.0dev,>=2.3.0 in /usr/local/lib/python3.11/dist-packages (from google-cloud-storage->gcsfs->ufs2arco==0.6) (2.4.3)\n",
            "Requirement already satisfied: google-resumable-media>=2.7.2 in /usr/local/lib/python3.11/dist-packages (from google-cloud-storage->gcsfs->ufs2arco==0.6) (2.7.2)\n",
            "Requirement already satisfied: google-crc32c<2.0dev,>=1.0 in /usr/local/lib/python3.11/dist-packages (from google-cloud-storage->gcsfs->ufs2arco==0.6) (1.7.1)\n",
            "Requirement already satisfied: charset-normalizer<4,>=2 in /usr/local/lib/python3.11/dist-packages (from requests->gcsfs->ufs2arco==0.6) (3.4.2)\n",
            "Requirement already satisfied: idna<4,>=2.5 in /usr/local/lib/python3.11/dist-packages (from requests->gcsfs->ufs2arco==0.6) (3.10)\n",
            "Requirement already satisfied: contourpy>=1.2 in /usr/local/lib/python3.11/dist-packages (from bokeh>=3.1.0->dask[complete]->ufs2arco==0.6) (1.3.2)\n",
            "Requirement already satisfied: narwhals>=1.13 in /usr/local/lib/python3.11/dist-packages (from bokeh>=3.1.0->dask[complete]->ufs2arco==0.6) (1.43.0)\n",
            "Requirement already satisfied: pillow>=7.1.0 in /usr/local/lib/python3.11/dist-packages (from bokeh>=3.1.0->dask[complete]->ufs2arco==0.6) (11.2.1)\n",
            "Requirement already satisfied: xyzservices>=2021.09.1 in /usr/local/lib/python3.11/dist-packages (from bokeh>=3.1.0->dask[complete]->ufs2arco==0.6) (2025.4.0)\n",
            "Requirement already satisfied: googleapis-common-protos<2.0.0,>=1.56.2 in /usr/local/lib/python3.11/dist-packages (from google-api-core<3.0.0dev,>=2.15.0->google-cloud-storage->gcsfs->ufs2arco==0.6) (1.70.0)\n",
            "Requirement already satisfied: protobuf!=3.20.0,!=3.20.1,!=4.21.0,!=4.21.1,!=4.21.2,!=4.21.3,!=4.21.4,!=4.21.5,<7.0.0,>=3.19.5 in /usr/local/lib/python3.11/dist-packages (from google-api-core<3.0.0dev,>=2.15.0->google-cloud-storage->gcsfs->ufs2arco==0.6) (5.29.5)\n",
            "Requirement already satisfied: proto-plus<2.0.0,>=1.22.3 in /usr/local/lib/python3.11/dist-packages (from google-api-core<3.0.0dev,>=2.15.0->google-cloud-storage->gcsfs->ufs2arco==0.6) (1.26.1)\n",
            "Requirement already satisfied: MarkupSafe>=2.0 in /usr/local/lib/python3.11/dist-packages (from jinja2>=2.10.3->dask[complete]->ufs2arco==0.6) (3.0.2)\n",
            "Requirement already satisfied: pyasn1<0.7.0,>=0.6.1 in /usr/local/lib/python3.11/dist-packages (from pyasn1-modules>=0.2.1->google-auth>=1.2->gcsfs->ufs2arco==0.6) (0.6.1)\n",
            "Requirement already satisfied: six>=1.5 in /usr/local/lib/python3.11/dist-packages (from python-dateutil<3.0.0,>=2.1->aiobotocore<3.0.0,>=2.5.4->s3fs->ufs2arco==0.6) (1.17.0)\n",
            "Requirement already satisfied: oauthlib>=3.0.0 in /usr/local/lib/python3.11/dist-packages (from requests-oauthlib>=0.7.0->google-auth-oauthlib->gcsfs->ufs2arco==0.6) (3.2.2)\n",
            "Requirement already satisfied: pycparser in /usr/local/lib/python3.11/dist-packages (from cffi->eccodes>=0.9.8->cfgrib->ufs2arco==0.6) (2.22)\n"
          ]
        }
      ],
      "source": [
        "!pip install ufs2arco==0.6 mpi4py"
      ]
    },
    {
      "cell_type": "markdown",
      "id": "ea034d3d-cf89-4601-b200-8d02fd328cbb",
      "metadata": {
        "id": "ea034d3d-cf89-4601-b200-8d02fd328cbb"
      },
      "source": [
        "## 2) Dataset YAML Paths"
      ]
    },
    {
      "cell_type": "code",
      "execution_count": 15,
      "id": "863d73c4-89f5-4f78-9090-d0f7f835cccf",
      "metadata": {
        "id": "863d73c4-89f5-4f78-9090-d0f7f835cccf"
      },
      "outputs": [],
      "source": [
        "train_yaml_path = 'training.yaml'  # training YAML path\n",
        "valid_yaml_path = 'validation.yaml'  # validation YAML path\n",
        "test_yaml_path = 'testing.yaml'  # testing YAML path"
      ]
    },
    {
      "cell_type": "markdown",
      "id": "6fa3e3c4-bc91-46aa-b8e9-bc6648da22f0",
      "metadata": {
        "id": "6fa3e3c4-bc91-46aa-b8e9-bc6648da22f0"
      },
      "source": [
        "The datasets will include data for the following timeframes at 3-hourly intervals:\n",
        "- **Training**: 0z 1 Jan 1994 - 21z 2 Jan 1994\n",
        "- **Validation**: 0z 3 Jan 1994 - 21z 4 Jan 1994\n",
        "- **Testing**: 0z 5 Jan 1994 - 21z 6 Jan 1994"
      ]
    },
    {
      "cell_type": "markdown",
      "id": "f457070d-3d90-4536-be19-a052da4f8f25",
      "metadata": {
        "id": "f457070d-3d90-4536-be19-a052da4f8f25"
      },
      "source": [
        "### 3.1) Create the Training Dataset"
      ]
    },
    {
      "cell_type": "code",
      "execution_count": 16,
      "id": "76a274fc-d916-49c0-9728-4143129629b4",
      "metadata": {
        "id": "76a274fc-d916-49c0-9728-4143129629b4",
        "outputId": "243bfd7b-df3a-416d-85c8-6efcd53368d5",
        "colab": {
          "base_uri": "https://localhost:8080/"
        }
      },
      "outputs": [
        {
          "output_type": "stream",
          "name": "stdout",
          "text": [
            "/usr/local/lib/python3.11/dist-packages/ufs2arco/sources/cloud_zarr.py:36: FutureWarning: In a future version of xarray decode_timedelta will default to False rather than None. To silence this warning, set decode_timedelta to True, False, or a 'CFTimedeltaCoder' instance.\n",
            "  xds = xr.open_zarr(\n",
            "/usr/local/lib/python3.11/dist-packages/xarray/computation/apply_ufunc.py:821: RuntimeWarning: invalid value encountered in sqrt\n",
            "  result_data = func(*input_data)\n"
          ]
        }
      ],
      "source": [
        "!ufs2arco {train_yaml_path}"
      ]
    },
    {
      "cell_type": "markdown",
      "id": "1838d26b-5d3b-44bb-bf72-c8c819042c29",
      "metadata": {
        "id": "1838d26b-5d3b-44bb-bf72-c8c819042c29"
      },
      "source": [
        "### 3.2) Create the Validation Dataset"
      ]
    },
    {
      "cell_type": "code",
      "execution_count": 17,
      "id": "390e574c-6f2a-45be-b551-8321da6903db",
      "metadata": {
        "id": "390e574c-6f2a-45be-b551-8321da6903db",
        "outputId": "9436e485-c29a-4428-df1e-52b3fe660f3b",
        "colab": {
          "base_uri": "https://localhost:8080/"
        }
      },
      "outputs": [
        {
          "output_type": "stream",
          "name": "stdout",
          "text": [
            "/usr/local/lib/python3.11/dist-packages/ufs2arco/sources/cloud_zarr.py:36: FutureWarning: In a future version of xarray decode_timedelta will default to False rather than None. To silence this warning, set decode_timedelta to True, False, or a 'CFTimedeltaCoder' instance.\n",
            "  xds = xr.open_zarr(\n"
          ]
        }
      ],
      "source": [
        "!ufs2arco {valid_yaml_path}"
      ]
    },
    {
      "cell_type": "markdown",
      "id": "08251df3-4048-4478-90af-d771fe97af1e",
      "metadata": {
        "id": "08251df3-4048-4478-90af-d771fe97af1e"
      },
      "source": [
        "### 3.3) Create the Testing Dataset"
      ]
    },
    {
      "cell_type": "code",
      "execution_count": 18,
      "id": "6450db87-6868-4d81-b44f-7cefc59ffd30",
      "metadata": {
        "id": "6450db87-6868-4d81-b44f-7cefc59ffd30",
        "outputId": "cd02431b-06d7-43a6-abfc-6e45ed64667f",
        "colab": {
          "base_uri": "https://localhost:8080/"
        }
      },
      "outputs": [
        {
          "output_type": "stream",
          "name": "stdout",
          "text": [
            "/usr/local/lib/python3.11/dist-packages/ufs2arco/sources/cloud_zarr.py:36: FutureWarning: In a future version of xarray decode_timedelta will default to False rather than None. To silence this warning, set decode_timedelta to True, False, or a 'CFTimedeltaCoder' instance.\n",
            "  xds = xr.open_zarr(\n"
          ]
        }
      ],
      "source": [
        "!ufs2arco {test_yaml_path}"
      ]
    }
  ],
  "metadata": {
    "kernelspec": {
      "display_name": "Anemoi Workflow (ipykernel)",
      "language": "python",
      "name": "ipykernel"
    },
    "language_info": {
      "codemirror_mode": {
        "name": "ipython",
        "version": 3
      },
      "file_extension": ".py",
      "mimetype": "text/x-python",
      "name": "python",
      "nbconvert_exporter": "python",
      "pygments_lexer": "ipython3",
      "version": "3.11.13"
    },
    "colab": {
      "provenance": [],
      "include_colab_link": true
    }
  },
  "nbformat": 4,
  "nbformat_minor": 5
}