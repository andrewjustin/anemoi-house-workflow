{
  "cells": [
    {
      "cell_type": "markdown",
      "metadata": {
        "id": "view-in-github",
        "colab_type": "text"
      },
      "source": [
        "<a href=\"https://colab.research.google.com/github/andrewjustin/anemoi-house-workflow/blob/master/colab-anemoi-workflow.ipynb\" target=\"_parent\"><img src=\"https://colab.research.google.com/assets/colab-badge.svg\" alt=\"Open In Colab\"/></a>"
      ]
    },
    {
      "cell_type": "markdown",
      "id": "7bb07c0c-6e0d-47b1-b1cd-ffe918a41c2d",
      "metadata": {
        "id": "7bb07c0c-6e0d-47b1-b1cd-ffe918a41c2d"
      },
      "source": [
        "# Generating Datasets with ufs2arco for Anemoi Model Training\n",
        "\n",
        "##### This notebook will guide you through the process of generating training, validation, and testing datasets for Anemoi models.\n",
        "\n",
        "##### For questions, please contact andrew.justin@noaa.gov."
      ]
    },
    {
      "cell_type": "markdown",
      "id": "dd9d93ea-ffbb-4f4f-9fa7-423588461c90",
      "metadata": {
        "id": "dd9d93ea-ffbb-4f4f-9fa7-423588461c90"
      },
      "source": [
        "## 1) Environment Setup"
      ]
    },
    {
      "cell_type": "code",
      "execution_count": 8,
      "id": "6333bcd8-1198-487d-bf89-9839c537c324",
      "metadata": {
        "scrolled": true,
        "id": "6333bcd8-1198-487d-bf89-9839c537c324",
        "outputId": "11eb5c57-d561-4919-84f9-f2ad07f4de09",
        "colab": {
          "base_uri": "https://localhost:8080/"
        }
      },
      "outputs": [
        {
          "output_type": "stream",
          "name": "stdout",
          "text": [
            "Requirement already satisfied: ufs2arco==0.6 in /usr/local/lib/python3.11/dist-packages (0.6.0)\n",
            "Requirement already satisfied: mpi4py in /usr/local/lib/python3.11/dist-packages (4.0.3)\n",
            "Requirement already satisfied: anemoi-datasets==0.5.23 in /usr/local/lib/python3.11/dist-packages (0.5.23)\n",
            "Requirement already satisfied: anemoi-graphs==0.5.2 in /usr/local/lib/python3.11/dist-packages (0.5.2)\n",
            "Requirement already satisfied: anemoi-models==0.5.0 in /usr/local/lib/python3.11/dist-packages (0.5.0)\n",
            "Requirement already satisfied: anemoi-training==0.4.0 in /usr/local/lib/python3.11/dist-packages (0.4.0)\n",
            "Requirement already satisfied: anemoi-inference in /usr/local/lib/python3.11/dist-packages (0.6.2)\n",
            "Requirement already satisfied: flash-attn in /usr/local/lib/python3.11/dist-packages (2.8.0.post2)\n",
            "Requirement already satisfied: numpy<2.3 in /usr/local/lib/python3.11/dist-packages (1.26.4)\n",
            "Requirement already satisfied: earthkit-data<0.14.0 in /usr/local/lib/python3.11/dist-packages (0.13.9)\n",
            "Requirement already satisfied: xarray in /usr/local/lib/python3.11/dist-packages (from ufs2arco==0.6) (2025.3.1)\n",
            "Requirement already satisfied: cf_xarray in /usr/local/lib/python3.11/dist-packages (from ufs2arco==0.6) (0.10.6)\n",
            "Requirement already satisfied: cftime in /usr/local/lib/python3.11/dist-packages (from ufs2arco==0.6) (1.6.4.post1)\n",
            "Requirement already satisfied: netCDF4 in /usr/local/lib/python3.11/dist-packages (from ufs2arco==0.6) (1.7.2)\n",
            "Requirement already satisfied: h5netcdf in /usr/local/lib/python3.11/dist-packages (from ufs2arco==0.6) (1.6.1)\n",
            "Requirement already satisfied: zarr<3 in /usr/local/lib/python3.11/dist-packages (from ufs2arco==0.6) (2.18.4)\n",
            "Requirement already satisfied: cfgrib in /usr/local/lib/python3.11/dist-packages (from ufs2arco==0.6) (0.9.15.0)\n",
            "Requirement already satisfied: bottleneck in /usr/local/lib/python3.11/dist-packages (from ufs2arco==0.6) (1.4.2)\n",
            "Requirement already satisfied: dask[complete] in /usr/local/lib/python3.11/dist-packages (from ufs2arco==0.6) (2024.12.1)\n",
            "Requirement already satisfied: fsspec in /usr/local/lib/python3.11/dist-packages (from ufs2arco==0.6) (2025.3.2)\n",
            "Requirement already satisfied: s3fs in /usr/local/lib/python3.11/dist-packages (from ufs2arco==0.6) (2025.3.2)\n",
            "Requirement already satisfied: gcsfs in /usr/local/lib/python3.11/dist-packages (from ufs2arco==0.6) (2025.3.2)\n",
            "Requirement already satisfied: anemoi-transform>=0.1.9 in /usr/local/lib/python3.11/dist-packages (from anemoi-datasets==0.5.23) (0.1.11)\n",
            "Requirement already satisfied: anemoi-utils>=0.4.21 in /usr/local/lib/python3.11/dist-packages (from anemoi-utils[provenance]>=0.4.21->anemoi-datasets==0.5.23) (0.4.25)\n",
            "Requirement already satisfied: cfunits in /usr/local/lib/python3.11/dist-packages (from anemoi-datasets==0.5.23) (3.3.7)\n",
            "Requirement already satisfied: numcodecs<0.16 in /usr/local/lib/python3.11/dist-packages (from anemoi-datasets==0.5.23) (0.15.1)\n",
            "Requirement already satisfied: pyyaml in /usr/local/lib/python3.11/dist-packages (from anemoi-datasets==0.5.23) (6.0.2)\n",
            "Requirement already satisfied: semantic-version in /usr/local/lib/python3.11/dist-packages (from anemoi-datasets==0.5.23) (2.10.0)\n",
            "Requirement already satisfied: tqdm in /usr/local/lib/python3.11/dist-packages (from anemoi-datasets==0.5.23) (4.67.1)\n",
            "Requirement already satisfied: h3<4,>=3.7.6 in /usr/local/lib/python3.11/dist-packages (from anemoi-graphs==0.5.2) (3.7.7)\n",
            "Requirement already satisfied: healpy>=1.17 in /usr/local/lib/python3.11/dist-packages (from anemoi-graphs==0.5.2) (1.18.1)\n",
            "Requirement already satisfied: hydra-core>=1.3 in /usr/local/lib/python3.11/dist-packages (from anemoi-graphs==0.5.2) (1.3.2)\n",
            "Requirement already satisfied: matplotlib>=3.4 in /usr/local/lib/python3.11/dist-packages (from anemoi-graphs==0.5.2) (3.10.0)\n",
            "Requirement already satisfied: networkx>=3.1 in /usr/local/lib/python3.11/dist-packages (from anemoi-graphs==0.5.2) (3.5)\n",
            "Requirement already satisfied: plotly>=5.19 in /usr/local/lib/python3.11/dist-packages (from anemoi-graphs==0.5.2) (5.24.1)\n",
            "Requirement already satisfied: scikit-learn in /usr/local/lib/python3.11/dist-packages (from anemoi-graphs==0.5.2) (1.6.1)\n",
            "Requirement already satisfied: torch>=2.2 in /usr/local/lib/python3.11/dist-packages (from anemoi-graphs==0.5.2) (2.6.0+cu124)\n",
            "Requirement already satisfied: torch-geometric>=2.3.1 in /usr/local/lib/python3.11/dist-packages (from anemoi-graphs==0.5.2) (2.4.0)\n",
            "Requirement already satisfied: trimesh>=4.1 in /usr/local/lib/python3.11/dist-packages (from anemoi-graphs==0.5.2) (4.6.12)\n",
            "Requirement already satisfied: typeguard in /usr/local/lib/python3.11/dist-packages (from anemoi-graphs==0.5.2) (4.4.3)\n",
            "Requirement already satisfied: einops>=0.6.1 in /usr/local/lib/python3.11/dist-packages (from anemoi-models==0.5.0) (0.8.1)\n",
            "Requirement already satisfied: datashader>=0.16.3 in /usr/local/lib/python3.11/dist-packages (from anemoi-training==0.4.0) (0.18.1)\n",
            "Requirement already satisfied: mlflow>=2.11.1 in /usr/local/lib/python3.11/dist-packages (from anemoi-training==0.4.0) (3.1.0)\n",
            "Requirement already satisfied: pynvml>=11.5 in /usr/local/lib/python3.11/dist-packages (from anemoi-training==0.4.0) (12.0.0)\n",
            "Requirement already satisfied: pyshtools>=4.10.4 in /usr/local/lib/python3.11/dist-packages (from anemoi-training==0.4.0) (4.13.1)\n",
            "Requirement already satisfied: pytorch-lightning>=2.1 in /usr/local/lib/python3.11/dist-packages (from anemoi-training==0.4.0) (2.5.2)\n",
            "Requirement already satisfied: timm>=0.9.2 in /usr/local/lib/python3.11/dist-packages (from anemoi-training==0.4.0) (1.0.15)\n",
            "Requirement already satisfied: torchinfo>=1.8 in /usr/local/lib/python3.11/dist-packages (from anemoi-training==0.4.0) (1.8.0)\n",
            "Requirement already satisfied: aniso8601 in /usr/local/lib/python3.11/dist-packages (from anemoi-inference) (10.0.1)\n",
            "Requirement already satisfied: anytree in /usr/local/lib/python3.11/dist-packages (from anemoi-inference) (2.13.0)\n",
            "Requirement already satisfied: eccodes>=2.38.3 in /usr/local/lib/python3.11/dist-packages (from anemoi-inference) (2.41.0)\n",
            "Requirement already satisfied: packaging in /usr/local/lib/python3.11/dist-packages (from anemoi-inference) (24.2)\n",
            "Requirement already satisfied: pydantic in /usr/local/lib/python3.11/dist-packages (from anemoi-inference) (2.11.7)\n",
            "Requirement already satisfied: array-api-compat in /usr/local/lib/python3.11/dist-packages (from earthkit-data<0.14.0) (1.12.0)\n",
            "Requirement already satisfied: deprecation in /usr/local/lib/python3.11/dist-packages (from earthkit-data<0.14.0) (2.1.0)\n",
            "Requirement already satisfied: earthkit-meteo>=0.0.1 in /usr/local/lib/python3.11/dist-packages (from earthkit-data<0.14.0) (0.4.1)\n",
            "Requirement already satisfied: entrypoints in /usr/local/lib/python3.11/dist-packages (from earthkit-data<0.14.0) (0.4)\n",
            "Requirement already satisfied: filelock in /usr/local/lib/python3.11/dist-packages (from earthkit-data<0.14.0) (3.18.0)\n",
            "Requirement already satisfied: jinja2 in /usr/local/lib/python3.11/dist-packages (from earthkit-data<0.14.0) (3.1.6)\n",
            "Requirement already satisfied: jsonschema in /usr/local/lib/python3.11/dist-packages (from earthkit-data<0.14.0) (4.24.0)\n",
            "Requirement already satisfied: lru-dict in /usr/local/lib/python3.11/dist-packages (from earthkit-data<0.14.0) (1.3.0)\n",
            "Requirement already satisfied: markdown in /usr/local/lib/python3.11/dist-packages (from earthkit-data<0.14.0) (3.8)\n",
            "Requirement already satisfied: multiurl>=0.3.3 in /usr/local/lib/python3.11/dist-packages (from earthkit-data<0.14.0) (0.3.5)\n",
            "Requirement already satisfied: pandas in /usr/local/lib/python3.11/dist-packages (from earthkit-data<0.14.0) (2.2.2)\n",
            "Requirement already satisfied: pdbufr>=0.11 in /usr/local/lib/python3.11/dist-packages (from earthkit-data<0.14.0) (0.13.0)\n",
            "\u001b[33mWARNING: anemoi-datasets 0.5.23 does not provide the extra 'data'\u001b[0m\u001b[33m\n",
            "\u001b[0mRequirement already satisfied: earthkit-regrid>=0.4 in /usr/local/lib/python3.11/dist-packages (from anemoi-transform>=0.1.9->anemoi-datasets==0.5.23) (0.4.0)\n",
            "Requirement already satisfied: python-dateutil in /usr/local/lib/python3.11/dist-packages (from anemoi-utils>=0.4.21->anemoi-utils[provenance]>=0.4.21->anemoi-datasets==0.5.23) (2.9.0.post0)\n",
            "Requirement already satisfied: rich in /usr/local/lib/python3.11/dist-packages (from anemoi-utils>=0.4.21->anemoi-utils[provenance]>=0.4.21->anemoi-datasets==0.5.23) (13.9.4)\n",
            "Requirement already satisfied: gitpython in /usr/local/lib/python3.11/dist-packages (from anemoi-utils[provenance,text]>=0.4.16->anemoi-inference) (3.1.44)\n",
            "Requirement already satisfied: nvsmi in /usr/local/lib/python3.11/dist-packages (from anemoi-utils[provenance,text]>=0.4.16->anemoi-inference) (0.4.2)\n",
            "Requirement already satisfied: termcolor in /usr/local/lib/python3.11/dist-packages (from anemoi-utils[provenance,text]>=0.4.16->anemoi-inference) (3.1.0)\n",
            "Requirement already satisfied: wcwidth in /usr/local/lib/python3.11/dist-packages (from anemoi-utils[provenance,text]>=0.4.16->anemoi-inference) (0.2.13)\n",
            "Requirement already satisfied: attrs>=19.2 in /usr/local/lib/python3.11/dist-packages (from cfgrib->ufs2arco==0.6) (25.3.0)\n",
            "Requirement already satisfied: click in /usr/local/lib/python3.11/dist-packages (from cfgrib->ufs2arco==0.6) (8.2.1)\n",
            "Requirement already satisfied: colorcet in /usr/local/lib/python3.11/dist-packages (from datashader>=0.16.3->anemoi-training==0.4.0) (3.1.0)\n",
            "Requirement already satisfied: multipledispatch in /usr/local/lib/python3.11/dist-packages (from datashader>=0.16.3->anemoi-training==0.4.0) (1.0.0)\n",
            "Requirement already satisfied: numba in /usr/local/lib/python3.11/dist-packages (from datashader>=0.16.3->anemoi-training==0.4.0) (0.60.0)\n",
            "Requirement already satisfied: param in /usr/local/lib/python3.11/dist-packages (from datashader>=0.16.3->anemoi-training==0.4.0) (2.2.1)\n",
            "Requirement already satisfied: pyct in /usr/local/lib/python3.11/dist-packages (from datashader>=0.16.3->anemoi-training==0.4.0) (0.5.0)\n",
            "Requirement already satisfied: requests in /usr/local/lib/python3.11/dist-packages (from datashader>=0.16.3->anemoi-training==0.4.0) (2.32.3)\n",
            "Requirement already satisfied: scipy in /usr/local/lib/python3.11/dist-packages (from datashader>=0.16.3->anemoi-training==0.4.0) (1.15.3)\n",
            "Requirement already satisfied: toolz in /usr/local/lib/python3.11/dist-packages (from datashader>=0.16.3->anemoi-training==0.4.0) (0.12.1)\n",
            "Requirement already satisfied: earthkit-utils>=0.0.1 in /usr/local/lib/python3.11/dist-packages (from earthkit-meteo>=0.0.1->earthkit-data<0.14.0) (0.0.1)\n",
            "Requirement already satisfied: cffi in /usr/local/lib/python3.11/dist-packages (from eccodes>=2.38.3->anemoi-inference) (1.17.1)\n",
            "Requirement already satisfied: findlibs in /usr/local/lib/python3.11/dist-packages (from eccodes>=2.38.3->anemoi-inference) (0.1.1)\n",
            "Requirement already satisfied: astropy in /usr/local/lib/python3.11/dist-packages (from healpy>=1.17->anemoi-graphs==0.5.2) (7.1.0)\n",
            "Requirement already satisfied: omegaconf<2.4,>=2.2 in /usr/local/lib/python3.11/dist-packages (from hydra-core>=1.3->anemoi-graphs==0.5.2) (2.3.0)\n",
            "Requirement already satisfied: antlr4-python3-runtime==4.9.* in /usr/local/lib/python3.11/dist-packages (from hydra-core>=1.3->anemoi-graphs==0.5.2) (4.9.3)\n",
            "Requirement already satisfied: contourpy>=1.0.1 in /usr/local/lib/python3.11/dist-packages (from matplotlib>=3.4->anemoi-graphs==0.5.2) (1.3.2)\n",
            "Requirement already satisfied: cycler>=0.10 in /usr/local/lib/python3.11/dist-packages (from matplotlib>=3.4->anemoi-graphs==0.5.2) (0.12.1)\n",
            "Requirement already satisfied: fonttools>=4.22.0 in /usr/local/lib/python3.11/dist-packages (from matplotlib>=3.4->anemoi-graphs==0.5.2) (4.58.4)\n",
            "Requirement already satisfied: kiwisolver>=1.3.1 in /usr/local/lib/python3.11/dist-packages (from matplotlib>=3.4->anemoi-graphs==0.5.2) (1.4.8)\n",
            "Requirement already satisfied: pillow>=8 in /usr/local/lib/python3.11/dist-packages (from matplotlib>=3.4->anemoi-graphs==0.5.2) (11.2.1)\n",
            "Requirement already satisfied: pyparsing>=2.3.1 in /usr/local/lib/python3.11/dist-packages (from matplotlib>=3.4->anemoi-graphs==0.5.2) (3.2.3)\n",
            "Requirement already satisfied: mlflow-skinny==3.1.0 in /usr/local/lib/python3.11/dist-packages (from mlflow>=2.11.1->anemoi-training==0.4.0) (3.1.0)\n",
            "Requirement already satisfied: Flask<4 in /usr/local/lib/python3.11/dist-packages (from mlflow>=2.11.1->anemoi-training==0.4.0) (3.1.1)\n",
            "Requirement already satisfied: alembic!=1.10.0,<2 in /usr/local/lib/python3.11/dist-packages (from mlflow>=2.11.1->anemoi-training==0.4.0) (1.16.2)\n",
            "Requirement already satisfied: docker<8,>=4.0.0 in /usr/local/lib/python3.11/dist-packages (from mlflow>=2.11.1->anemoi-training==0.4.0) (7.1.0)\n",
            "Requirement already satisfied: graphene<4 in /usr/local/lib/python3.11/dist-packages (from mlflow>=2.11.1->anemoi-training==0.4.0) (3.4.3)\n",
            "Requirement already satisfied: gunicorn<24 in /usr/local/lib/python3.11/dist-packages (from mlflow>=2.11.1->anemoi-training==0.4.0) (23.0.0)\n",
            "Requirement already satisfied: pyarrow<21,>=4.0.0 in /usr/local/lib/python3.11/dist-packages (from mlflow>=2.11.1->anemoi-training==0.4.0) (18.1.0)\n",
            "Requirement already satisfied: sqlalchemy<3,>=1.4.0 in /usr/local/lib/python3.11/dist-packages (from mlflow>=2.11.1->anemoi-training==0.4.0) (2.0.41)\n",
            "Requirement already satisfied: cachetools<7,>=5.0.0 in /usr/local/lib/python3.11/dist-packages (from mlflow-skinny==3.1.0->mlflow>=2.11.1->anemoi-training==0.4.0) (5.5.2)\n",
            "Requirement already satisfied: cloudpickle<4 in /usr/local/lib/python3.11/dist-packages (from mlflow-skinny==3.1.0->mlflow>=2.11.1->anemoi-training==0.4.0) (3.1.1)\n",
            "Requirement already satisfied: databricks-sdk<1,>=0.20.0 in /usr/local/lib/python3.11/dist-packages (from mlflow-skinny==3.1.0->mlflow>=2.11.1->anemoi-training==0.4.0) (0.57.0)\n",
            "Requirement already satisfied: fastapi<1 in /usr/local/lib/python3.11/dist-packages (from mlflow-skinny==3.1.0->mlflow>=2.11.1->anemoi-training==0.4.0) (0.115.12)\n",
            "Requirement already satisfied: importlib_metadata!=4.7.0,<9,>=3.7.0 in /usr/local/lib/python3.11/dist-packages (from mlflow-skinny==3.1.0->mlflow>=2.11.1->anemoi-training==0.4.0) (8.7.0)\n",
            "Requirement already satisfied: opentelemetry-api<3,>=1.9.0 in /usr/local/lib/python3.11/dist-packages (from mlflow-skinny==3.1.0->mlflow>=2.11.1->anemoi-training==0.4.0) (1.34.1)\n",
            "Requirement already satisfied: opentelemetry-sdk<3,>=1.9.0 in /usr/local/lib/python3.11/dist-packages (from mlflow-skinny==3.1.0->mlflow>=2.11.1->anemoi-training==0.4.0) (1.34.1)\n",
            "Requirement already satisfied: protobuf<7,>=3.12.0 in /usr/local/lib/python3.11/dist-packages (from mlflow-skinny==3.1.0->mlflow>=2.11.1->anemoi-training==0.4.0) (5.29.5)\n",
            "Requirement already satisfied: sqlparse<1,>=0.4.0 in /usr/local/lib/python3.11/dist-packages (from mlflow-skinny==3.1.0->mlflow>=2.11.1->anemoi-training==0.4.0) (0.5.3)\n",
            "Requirement already satisfied: typing-extensions<5,>=4.0.0 in /usr/local/lib/python3.11/dist-packages (from mlflow-skinny==3.1.0->mlflow>=2.11.1->anemoi-training==0.4.0) (4.14.0)\n",
            "Requirement already satisfied: uvicorn<1 in /usr/local/lib/python3.11/dist-packages (from mlflow-skinny==3.1.0->mlflow>=2.11.1->anemoi-training==0.4.0) (0.34.3)\n",
            "Requirement already satisfied: pytz in /usr/local/lib/python3.11/dist-packages (from multiurl>=0.3.3->earthkit-data<0.14.0) (2025.2)\n",
            "Requirement already satisfied: deprecated in /usr/local/lib/python3.11/dist-packages (from numcodecs<0.16->anemoi-datasets==0.5.23) (1.2.18)\n",
            "Requirement already satisfied: tzdata>=2022.7 in /usr/local/lib/python3.11/dist-packages (from pandas->earthkit-data<0.14.0) (2025.2)\n",
            "Requirement already satisfied: pint in /usr/local/lib/python3.11/dist-packages (from pdbufr>=0.11->earthkit-data<0.14.0) (0.24.4)\n",
            "Requirement already satisfied: tenacity>=6.2.0 in /usr/local/lib/python3.11/dist-packages (from plotly>=5.19->anemoi-graphs==0.5.2) (9.1.2)\n",
            "Requirement already satisfied: annotated-types>=0.6.0 in /usr/local/lib/python3.11/dist-packages (from pydantic->anemoi-inference) (0.7.0)\n",
            "Requirement already satisfied: pydantic-core==2.33.2 in /usr/local/lib/python3.11/dist-packages (from pydantic->anemoi-inference) (2.33.2)\n",
            "Requirement already satisfied: typing-inspection>=0.4.0 in /usr/local/lib/python3.11/dist-packages (from pydantic->anemoi-inference) (0.4.1)\n",
            "Requirement already satisfied: nvidia-ml-py<13.0.0a0,>=12.0.0 in /usr/local/lib/python3.11/dist-packages (from pynvml>=11.5->anemoi-training==0.4.0) (12.575.51)\n",
            "Requirement already satisfied: pooch>=1.1 in /usr/local/lib/python3.11/dist-packages (from pyshtools>=4.10.4->anemoi-training==0.4.0) (1.8.2)\n",
            "Requirement already satisfied: torchmetrics>=0.7.0 in /usr/local/lib/python3.11/dist-packages (from pytorch-lightning>=2.1->anemoi-training==0.4.0) (1.7.3)\n",
            "Requirement already satisfied: lightning-utilities>=0.10.0 in /usr/local/lib/python3.11/dist-packages (from pytorch-lightning>=2.1->anemoi-training==0.4.0) (0.14.3)\n",
            "Requirement already satisfied: joblib>=1.2.0 in /usr/local/lib/python3.11/dist-packages (from scikit-learn->anemoi-graphs==0.5.2) (1.5.1)\n",
            "Requirement already satisfied: threadpoolctl>=3.1.0 in /usr/local/lib/python3.11/dist-packages (from scikit-learn->anemoi-graphs==0.5.2) (3.6.0)\n",
            "Requirement already satisfied: torchvision in /usr/local/lib/python3.11/dist-packages (from timm>=0.9.2->anemoi-training==0.4.0) (0.21.0+cu124)\n",
            "Requirement already satisfied: huggingface_hub in /usr/local/lib/python3.11/dist-packages (from timm>=0.9.2->anemoi-training==0.4.0) (0.33.0)\n",
            "Requirement already satisfied: safetensors in /usr/local/lib/python3.11/dist-packages (from timm>=0.9.2->anemoi-training==0.4.0) (0.5.3)\n",
            "Requirement already satisfied: nvidia-cuda-nvrtc-cu12==12.4.127 in /usr/local/lib/python3.11/dist-packages (from torch>=2.2->anemoi-graphs==0.5.2) (12.4.127)\n",
            "Requirement already satisfied: nvidia-cuda-runtime-cu12==12.4.127 in /usr/local/lib/python3.11/dist-packages (from torch>=2.2->anemoi-graphs==0.5.2) (12.4.127)\n",
            "Requirement already satisfied: nvidia-cuda-cupti-cu12==12.4.127 in /usr/local/lib/python3.11/dist-packages (from torch>=2.2->anemoi-graphs==0.5.2) (12.4.127)\n",
            "Requirement already satisfied: nvidia-cudnn-cu12==9.1.0.70 in /usr/local/lib/python3.11/dist-packages (from torch>=2.2->anemoi-graphs==0.5.2) (9.1.0.70)\n",
            "Requirement already satisfied: nvidia-cublas-cu12==12.4.5.8 in /usr/local/lib/python3.11/dist-packages (from torch>=2.2->anemoi-graphs==0.5.2) (12.4.5.8)\n",
            "Requirement already satisfied: nvidia-cufft-cu12==11.2.1.3 in /usr/local/lib/python3.11/dist-packages (from torch>=2.2->anemoi-graphs==0.5.2) (11.2.1.3)\n",
            "Requirement already satisfied: nvidia-curand-cu12==10.3.5.147 in /usr/local/lib/python3.11/dist-packages (from torch>=2.2->anemoi-graphs==0.5.2) (10.3.5.147)\n",
            "Requirement already satisfied: nvidia-cusolver-cu12==11.6.1.9 in /usr/local/lib/python3.11/dist-packages (from torch>=2.2->anemoi-graphs==0.5.2) (11.6.1.9)\n",
            "Requirement already satisfied: nvidia-cusparse-cu12==12.3.1.170 in /usr/local/lib/python3.11/dist-packages (from torch>=2.2->anemoi-graphs==0.5.2) (12.3.1.170)\n",
            "Requirement already satisfied: nvidia-cusparselt-cu12==0.6.2 in /usr/local/lib/python3.11/dist-packages (from torch>=2.2->anemoi-graphs==0.5.2) (0.6.2)\n",
            "Requirement already satisfied: nvidia-nccl-cu12==2.21.5 in /usr/local/lib/python3.11/dist-packages (from torch>=2.2->anemoi-graphs==0.5.2) (2.21.5)\n",
            "Requirement already satisfied: nvidia-nvtx-cu12==12.4.127 in /usr/local/lib/python3.11/dist-packages (from torch>=2.2->anemoi-graphs==0.5.2) (12.4.127)\n",
            "Requirement already satisfied: nvidia-nvjitlink-cu12==12.4.127 in /usr/local/lib/python3.11/dist-packages (from torch>=2.2->anemoi-graphs==0.5.2) (12.4.127)\n",
            "Requirement already satisfied: triton==3.2.0 in /usr/local/lib/python3.11/dist-packages (from torch>=2.2->anemoi-graphs==0.5.2) (3.2.0)\n",
            "Requirement already satisfied: sympy==1.13.1 in /usr/local/lib/python3.11/dist-packages (from torch>=2.2->anemoi-graphs==0.5.2) (1.13.1)\n",
            "Requirement already satisfied: mpmath<1.4,>=1.1.0 in /usr/local/lib/python3.11/dist-packages (from sympy==1.13.1->torch>=2.2->anemoi-graphs==0.5.2) (1.3.0)\n",
            "Requirement already satisfied: psutil>=5.8.0 in /usr/local/lib/python3.11/dist-packages (from torch-geometric>=2.3.1->anemoi-graphs==0.5.2) (5.9.5)\n",
            "Requirement already satisfied: asciitree in /usr/local/lib/python3.11/dist-packages (from zarr<3->ufs2arco==0.6) (0.3.3)\n",
            "Requirement already satisfied: fasteners in /usr/local/lib/python3.11/dist-packages (from zarr<3->ufs2arco==0.6) (0.19)\n",
            "Requirement already satisfied: partd>=1.4.0 in /usr/local/lib/python3.11/dist-packages (from dask[complete]->ufs2arco==0.6) (1.4.2)\n",
            "Requirement already satisfied: lz4>=4.3.2 in /usr/local/lib/python3.11/dist-packages (from dask[complete]->ufs2arco==0.6) (4.4.4)\n",
            "Requirement already satisfied: aiohttp!=4.0.0a0,!=4.0.0a1 in /usr/local/lib/python3.11/dist-packages (from gcsfs->ufs2arco==0.6) (3.11.15)\n",
            "Requirement already satisfied: decorator>4.1.2 in /usr/local/lib/python3.11/dist-packages (from gcsfs->ufs2arco==0.6) (4.4.2)\n",
            "Requirement already satisfied: google-auth>=1.2 in /usr/local/lib/python3.11/dist-packages (from gcsfs->ufs2arco==0.6) (2.38.0)\n",
            "Requirement already satisfied: google-auth-oauthlib in /usr/local/lib/python3.11/dist-packages (from gcsfs->ufs2arco==0.6) (1.2.2)\n",
            "Requirement already satisfied: google-cloud-storage in /usr/local/lib/python3.11/dist-packages (from gcsfs->ufs2arco==0.6) (2.19.0)\n",
            "Requirement already satisfied: h5py in /usr/local/lib/python3.11/dist-packages (from h5netcdf->ufs2arco==0.6) (3.14.0)\n",
            "Requirement already satisfied: MarkupSafe>=2.0 in /usr/local/lib/python3.11/dist-packages (from jinja2->earthkit-data<0.14.0) (3.0.2)\n",
            "Requirement already satisfied: jsonschema-specifications>=2023.03.6 in /usr/local/lib/python3.11/dist-packages (from jsonschema->earthkit-data<0.14.0) (2025.4.1)\n",
            "Requirement already satisfied: referencing>=0.28.4 in /usr/local/lib/python3.11/dist-packages (from jsonschema->earthkit-data<0.14.0) (0.36.2)\n",
            "Requirement already satisfied: rpds-py>=0.7.1 in /usr/local/lib/python3.11/dist-packages (from jsonschema->earthkit-data<0.14.0) (0.25.1)\n",
            "Requirement already satisfied: certifi in /usr/local/lib/python3.11/dist-packages (from netCDF4->ufs2arco==0.6) (2025.6.15)\n",
            "Requirement already satisfied: aiobotocore<3.0.0,>=2.5.4 in /usr/local/lib/python3.11/dist-packages (from s3fs->ufs2arco==0.6) (2.23.0)\n",
            "Requirement already satisfied: aioitertools<1.0.0,>=0.5.1 in /usr/local/lib/python3.11/dist-packages (from aiobotocore<3.0.0,>=2.5.4->s3fs->ufs2arco==0.6) (0.12.0)\n",
            "Requirement already satisfied: botocore<1.38.28,>=1.38.23 in /usr/local/lib/python3.11/dist-packages (from aiobotocore<3.0.0,>=2.5.4->s3fs->ufs2arco==0.6) (1.38.27)\n",
            "Requirement already satisfied: jmespath<2.0.0,>=0.7.1 in /usr/local/lib/python3.11/dist-packages (from aiobotocore<3.0.0,>=2.5.4->s3fs->ufs2arco==0.6) (1.0.1)\n",
            "Requirement already satisfied: multidict<7.0.0,>=6.0.0 in /usr/local/lib/python3.11/dist-packages (from aiobotocore<3.0.0,>=2.5.4->s3fs->ufs2arco==0.6) (6.4.4)\n",
            "Requirement already satisfied: wrapt<2.0.0,>=1.10.10 in /usr/local/lib/python3.11/dist-packages (from aiobotocore<3.0.0,>=2.5.4->s3fs->ufs2arco==0.6) (1.17.2)\n",
            "Requirement already satisfied: aiohappyeyeballs>=2.3.0 in /usr/local/lib/python3.11/dist-packages (from aiohttp!=4.0.0a0,!=4.0.0a1->gcsfs->ufs2arco==0.6) (2.6.1)\n",
            "Requirement already satisfied: aiosignal>=1.1.2 in /usr/local/lib/python3.11/dist-packages (from aiohttp!=4.0.0a0,!=4.0.0a1->gcsfs->ufs2arco==0.6) (1.3.2)\n",
            "Requirement already satisfied: frozenlist>=1.1.1 in /usr/local/lib/python3.11/dist-packages (from aiohttp!=4.0.0a0,!=4.0.0a1->gcsfs->ufs2arco==0.6) (1.7.0)\n",
            "Requirement already satisfied: propcache>=0.2.0 in /usr/local/lib/python3.11/dist-packages (from aiohttp!=4.0.0a0,!=4.0.0a1->gcsfs->ufs2arco==0.6) (0.3.2)\n",
            "Requirement already satisfied: yarl<2.0,>=1.17.0 in /usr/local/lib/python3.11/dist-packages (from aiohttp!=4.0.0a0,!=4.0.0a1->gcsfs->ufs2arco==0.6) (1.20.1)\n",
            "Requirement already satisfied: Mako in /usr/lib/python3/dist-packages (from alembic!=1.10.0,<2->mlflow>=2.11.1->anemoi-training==0.4.0) (1.1.3)\n",
            "Requirement already satisfied: pyerfa>=2.0.1.1 in /usr/local/lib/python3.11/dist-packages (from astropy->healpy>=1.17->anemoi-graphs==0.5.2) (2.0.1.5)\n",
            "Requirement already satisfied: astropy-iers-data>=0.2025.4.28.0.37.27 in /usr/local/lib/python3.11/dist-packages (from astropy->healpy>=1.17->anemoi-graphs==0.5.2) (0.2025.6.16.0.38.47)\n",
            "Requirement already satisfied: urllib3>=1.26.0 in /usr/local/lib/python3.11/dist-packages (from docker<8,>=4.0.0->mlflow>=2.11.1->anemoi-training==0.4.0) (2.4.0)\n",
            "Requirement already satisfied: blinker>=1.9.0 in /usr/local/lib/python3.11/dist-packages (from Flask<4->mlflow>=2.11.1->anemoi-training==0.4.0) (1.9.0)\n",
            "Requirement already satisfied: itsdangerous>=2.2.0 in /usr/local/lib/python3.11/dist-packages (from Flask<4->mlflow>=2.11.1->anemoi-training==0.4.0) (2.2.0)\n",
            "Requirement already satisfied: werkzeug>=3.1.0 in /usr/local/lib/python3.11/dist-packages (from Flask<4->mlflow>=2.11.1->anemoi-training==0.4.0) (3.1.3)\n",
            "Requirement already satisfied: gitdb<5,>=4.0.1 in /usr/local/lib/python3.11/dist-packages (from gitpython->anemoi-utils[provenance,text]>=0.4.16->anemoi-inference) (4.0.12)\n",
            "Requirement already satisfied: pyasn1-modules>=0.2.1 in /usr/local/lib/python3.11/dist-packages (from google-auth>=1.2->gcsfs->ufs2arco==0.6) (0.4.2)\n",
            "Requirement already satisfied: rsa<5,>=3.1.4 in /usr/local/lib/python3.11/dist-packages (from google-auth>=1.2->gcsfs->ufs2arco==0.6) (4.9.1)\n",
            "Requirement already satisfied: graphql-core<3.3,>=3.1 in /usr/local/lib/python3.11/dist-packages (from graphene<4->mlflow>=2.11.1->anemoi-training==0.4.0) (3.2.6)\n",
            "Requirement already satisfied: graphql-relay<3.3,>=3.1 in /usr/local/lib/python3.11/dist-packages (from graphene<4->mlflow>=2.11.1->anemoi-training==0.4.0) (3.2.0)\n",
            "Requirement already satisfied: zipp>=3.20 in /usr/local/lib/python3.11/dist-packages (from importlib_metadata!=4.7.0,<9,>=3.7.0->mlflow-skinny==3.1.0->mlflow>=2.11.1->anemoi-training==0.4.0) (3.23.0)\n",
            "Requirement already satisfied: setuptools in /usr/local/lib/python3.11/dist-packages (from lightning-utilities>=0.10.0->pytorch-lightning>=2.1->anemoi-training==0.4.0) (75.2.0)\n",
            "Requirement already satisfied: locket in /usr/local/lib/python3.11/dist-packages (from partd>=1.4.0->dask[complete]->ufs2arco==0.6) (1.0.0)\n",
            "Requirement already satisfied: platformdirs>=2.5.0 in /usr/local/lib/python3.11/dist-packages (from pooch>=1.1->pyshtools>=4.10.4->anemoi-training==0.4.0) (4.3.8)\n",
            "Requirement already satisfied: six>=1.5 in /usr/local/lib/python3.11/dist-packages (from python-dateutil->anemoi-utils>=0.4.21->anemoi-utils[provenance]>=0.4.21->anemoi-datasets==0.5.23) (1.17.0)\n",
            "Requirement already satisfied: charset-normalizer<4,>=2 in /usr/local/lib/python3.11/dist-packages (from requests->datashader>=0.16.3->anemoi-training==0.4.0) (3.4.2)\n",
            "Requirement already satisfied: idna<4,>=2.5 in /usr/local/lib/python3.11/dist-packages (from requests->datashader>=0.16.3->anemoi-training==0.4.0) (3.10)\n",
            "Requirement already satisfied: greenlet>=1 in /usr/local/lib/python3.11/dist-packages (from sqlalchemy<3,>=1.4.0->mlflow>=2.11.1->anemoi-training==0.4.0) (3.2.3)\n",
            "Requirement already satisfied: pycparser in /usr/local/lib/python3.11/dist-packages (from cffi->eccodes>=2.38.3->anemoi-inference) (2.22)\n",
            "Requirement already satisfied: dask-expr<1.2,>=1.1 in /usr/local/lib/python3.11/dist-packages (from dask[complete]->ufs2arco==0.6) (1.1.21)\n",
            "Requirement already satisfied: distributed==2024.12.1 in /usr/local/lib/python3.11/dist-packages (from dask[complete]->ufs2arco==0.6) (2024.12.1)\n",
            "Requirement already satisfied: bokeh>=3.1.0 in /usr/local/lib/python3.11/dist-packages (from dask[complete]->ufs2arco==0.6) (3.7.3)\n",
            "Requirement already satisfied: msgpack>=1.0.2 in /usr/local/lib/python3.11/dist-packages (from distributed==2024.12.1->dask[complete]->ufs2arco==0.6) (1.1.1)\n",
            "Requirement already satisfied: sortedcontainers>=2.0.5 in /usr/local/lib/python3.11/dist-packages (from distributed==2024.12.1->dask[complete]->ufs2arco==0.6) (2.4.0)\n",
            "Requirement already satisfied: tblib>=1.6.0 in /usr/local/lib/python3.11/dist-packages (from distributed==2024.12.1->dask[complete]->ufs2arco==0.6) (3.1.0)\n",
            "Requirement already satisfied: tornado>=6.2.0 in /usr/local/lib/python3.11/dist-packages (from distributed==2024.12.1->dask[complete]->ufs2arco==0.6) (6.4.2)\n",
            "Requirement already satisfied: zict>=3.0.0 in /usr/local/lib/python3.11/dist-packages (from distributed==2024.12.1->dask[complete]->ufs2arco==0.6) (3.0.0)\n",
            "Requirement already satisfied: requests-oauthlib>=0.7.0 in /usr/local/lib/python3.11/dist-packages (from google-auth-oauthlib->gcsfs->ufs2arco==0.6) (2.0.0)\n",
            "Requirement already satisfied: google-api-core<3.0.0dev,>=2.15.0 in /usr/local/lib/python3.11/dist-packages (from google-cloud-storage->gcsfs->ufs2arco==0.6) (2.25.1)\n",
            "Requirement already satisfied: google-cloud-core<3.0dev,>=2.3.0 in /usr/local/lib/python3.11/dist-packages (from google-cloud-storage->gcsfs->ufs2arco==0.6) (2.4.3)\n",
            "Requirement already satisfied: google-resumable-media>=2.7.2 in /usr/local/lib/python3.11/dist-packages (from google-cloud-storage->gcsfs->ufs2arco==0.6) (2.7.2)\n",
            "Requirement already satisfied: google-crc32c<2.0dev,>=1.0 in /usr/local/lib/python3.11/dist-packages (from google-cloud-storage->gcsfs->ufs2arco==0.6) (1.7.1)\n",
            "Requirement already satisfied: hf-xet<2.0.0,>=1.1.2 in /usr/local/lib/python3.11/dist-packages (from huggingface_hub->timm>=0.9.2->anemoi-training==0.4.0) (1.1.3)\n",
            "Requirement already satisfied: llvmlite<0.44,>=0.43.0dev0 in /usr/local/lib/python3.11/dist-packages (from numba->datashader>=0.16.3->anemoi-training==0.4.0) (0.43.0)\n",
            "Requirement already satisfied: flexcache>=0.3 in /usr/local/lib/python3.11/dist-packages (from pint->pdbufr>=0.11->earthkit-data<0.14.0) (0.3)\n",
            "Requirement already satisfied: flexparser>=0.4 in /usr/local/lib/python3.11/dist-packages (from pint->pdbufr>=0.11->earthkit-data<0.14.0) (0.4)\n",
            "Requirement already satisfied: markdown-it-py>=2.2.0 in /usr/local/lib/python3.11/dist-packages (from rich->anemoi-utils>=0.4.21->anemoi-utils[provenance]>=0.4.21->anemoi-datasets==0.5.23) (3.0.0)\n",
            "Requirement already satisfied: pygments<3.0.0,>=2.13.0 in /usr/local/lib/python3.11/dist-packages (from rich->anemoi-utils>=0.4.21->anemoi-utils[provenance]>=0.4.21->anemoi-datasets==0.5.23) (2.19.1)\n",
            "Requirement already satisfied: narwhals>=1.13 in /usr/local/lib/python3.11/dist-packages (from bokeh>=3.1.0->dask[complete]->ufs2arco==0.6) (1.43.0)\n",
            "Requirement already satisfied: xyzservices>=2021.09.1 in /usr/local/lib/python3.11/dist-packages (from bokeh>=3.1.0->dask[complete]->ufs2arco==0.6) (2025.4.0)\n",
            "Requirement already satisfied: starlette<0.47.0,>=0.40.0 in /usr/local/lib/python3.11/dist-packages (from fastapi<1->mlflow-skinny==3.1.0->mlflow>=2.11.1->anemoi-training==0.4.0) (0.46.2)\n",
            "Requirement already satisfied: smmap<6,>=3.0.1 in /usr/local/lib/python3.11/dist-packages (from gitdb<5,>=4.0.1->gitpython->anemoi-utils[provenance,text]>=0.4.16->anemoi-inference) (5.0.2)\n",
            "Requirement already satisfied: googleapis-common-protos<2.0.0,>=1.56.2 in /usr/local/lib/python3.11/dist-packages (from google-api-core<3.0.0dev,>=2.15.0->google-cloud-storage->gcsfs->ufs2arco==0.6) (1.70.0)\n",
            "Requirement already satisfied: proto-plus<2.0.0,>=1.22.3 in /usr/local/lib/python3.11/dist-packages (from google-api-core<3.0.0dev,>=2.15.0->google-cloud-storage->gcsfs->ufs2arco==0.6) (1.26.1)\n",
            "Requirement already satisfied: mdurl~=0.1 in /usr/local/lib/python3.11/dist-packages (from markdown-it-py>=2.2.0->rich->anemoi-utils>=0.4.21->anemoi-utils[provenance]>=0.4.21->anemoi-datasets==0.5.23) (0.1.2)\n",
            "Requirement already satisfied: opentelemetry-semantic-conventions==0.55b1 in /usr/local/lib/python3.11/dist-packages (from opentelemetry-sdk<3,>=1.9.0->mlflow-skinny==3.1.0->mlflow>=2.11.1->anemoi-training==0.4.0) (0.55b1)\n",
            "Requirement already satisfied: pyasn1<0.7.0,>=0.6.1 in /usr/local/lib/python3.11/dist-packages (from pyasn1-modules>=0.2.1->google-auth>=1.2->gcsfs->ufs2arco==0.6) (0.6.1)\n",
            "Requirement already satisfied: oauthlib>=3.0.0 in /usr/local/lib/python3.11/dist-packages (from requests-oauthlib>=0.7.0->google-auth-oauthlib->gcsfs->ufs2arco==0.6) (3.2.2)\n",
            "Requirement already satisfied: h11>=0.8 in /usr/local/lib/python3.11/dist-packages (from uvicorn<1->mlflow-skinny==3.1.0->mlflow>=2.11.1->anemoi-training==0.4.0) (0.16.0)\n",
            "Requirement already satisfied: anyio<5,>=3.6.2 in /usr/local/lib/python3.11/dist-packages (from starlette<0.47.0,>=0.40.0->fastapi<1->mlflow-skinny==3.1.0->mlflow>=2.11.1->anemoi-training==0.4.0) (4.9.0)\n",
            "Requirement already satisfied: sniffio>=1.1 in /usr/local/lib/python3.11/dist-packages (from anyio<5,>=3.6.2->starlette<0.47.0,>=0.40.0->fastapi<1->mlflow-skinny==3.1.0->mlflow>=2.11.1->anemoi-training==0.4.0) (1.3.1)\n"
          ]
        }
      ],
      "source": [
        "!pip install ufs2arco==0.6 mpi4py anemoi-datasets==0.5.23 anemoi-graphs==0.5.2 anemoi-models==0.5.0 \\\n",
        "anemoi-training==0.4.0 anemoi-inference flash-attn 'numpy<2.3' 'earthkit-data<0.14.0'\n",
        "\n",
        "import os"
      ]
    },
    {
      "cell_type": "markdown",
      "id": "ea034d3d-cf89-4601-b200-8d02fd328cbb",
      "metadata": {
        "id": "ea034d3d-cf89-4601-b200-8d02fd328cbb"
      },
      "source": [
        "## 2) Dataset YAML Paths"
      ]
    },
    {
      "cell_type": "code",
      "execution_count": 3,
      "id": "863d73c4-89f5-4f78-9090-d0f7f835cccf",
      "metadata": {
        "id": "863d73c4-89f5-4f78-9090-d0f7f835cccf"
      },
      "outputs": [],
      "source": [
        "train_yaml_path = 'training.yaml'  # training YAML path\n",
        "valid_yaml_path = 'validation.yaml'  # validation YAML path\n",
        "test_yaml_path = 'testing.yaml'  # testing YAML path"
      ]
    },
    {
      "cell_type": "markdown",
      "id": "6fa3e3c4-bc91-46aa-b8e9-bc6648da22f0",
      "metadata": {
        "id": "6fa3e3c4-bc91-46aa-b8e9-bc6648da22f0"
      },
      "source": [
        "The datasets will include data for the following timeframes at 3-hourly intervals:\n",
        "- **Training**: 0z 1 Jan 1994 - 21z 2 Jan 1994\n",
        "- **Validation**: 0z 3 Jan 1994 - 21z 4 Jan 1994\n",
        "- **Testing**: 0z 5 Jan 1994 - 21z 6 Jan 1994"
      ]
    },
    {
      "cell_type": "markdown",
      "id": "f457070d-3d90-4536-be19-a052da4f8f25",
      "metadata": {
        "id": "f457070d-3d90-4536-be19-a052da4f8f25"
      },
      "source": [
        "# 3) Dataset Generation\n",
        "\n",
        "### 3.1) Create the Training Dataset"
      ]
    },
    {
      "cell_type": "code",
      "execution_count": 4,
      "id": "76a274fc-d916-49c0-9728-4143129629b4",
      "metadata": {
        "id": "76a274fc-d916-49c0-9728-4143129629b4",
        "outputId": "976acfab-07ba-428e-8854-f1057b5546ac",
        "colab": {
          "base_uri": "https://localhost:8080/"
        }
      },
      "outputs": [
        {
          "output_type": "stream",
          "name": "stdout",
          "text": [
            "/usr/local/lib/python3.11/dist-packages/ufs2arco/sources/cloud_zarr.py:36: FutureWarning: In a future version of xarray decode_timedelta will default to False rather than None. To silence this warning, set decode_timedelta to True, False, or a 'CFTimedeltaCoder' instance.\n",
            "  xds = xr.open_zarr(\n",
            "/usr/local/lib/python3.11/dist-packages/xarray/computation/apply_ufunc.py:821: RuntimeWarning: invalid value encountered in sqrt\n",
            "  result_data = func(*input_data)\n"
          ]
        }
      ],
      "source": [
        "!ufs2arco {train_yaml_path}"
      ]
    },
    {
      "cell_type": "markdown",
      "id": "1838d26b-5d3b-44bb-bf72-c8c819042c29",
      "metadata": {
        "id": "1838d26b-5d3b-44bb-bf72-c8c819042c29"
      },
      "source": [
        "### 3.2) Create the Validation Dataset"
      ]
    },
    {
      "cell_type": "code",
      "execution_count": 5,
      "id": "390e574c-6f2a-45be-b551-8321da6903db",
      "metadata": {
        "id": "390e574c-6f2a-45be-b551-8321da6903db",
        "outputId": "3c8967dc-b977-4826-b1a6-2f0f9db5ae5f",
        "colab": {
          "base_uri": "https://localhost:8080/"
        }
      },
      "outputs": [
        {
          "output_type": "stream",
          "name": "stdout",
          "text": [
            "/usr/local/lib/python3.11/dist-packages/ufs2arco/sources/cloud_zarr.py:36: FutureWarning: In a future version of xarray decode_timedelta will default to False rather than None. To silence this warning, set decode_timedelta to True, False, or a 'CFTimedeltaCoder' instance.\n",
            "  xds = xr.open_zarr(\n"
          ]
        }
      ],
      "source": [
        "!ufs2arco {valid_yaml_path}"
      ]
    },
    {
      "cell_type": "markdown",
      "id": "08251df3-4048-4478-90af-d771fe97af1e",
      "metadata": {
        "id": "08251df3-4048-4478-90af-d771fe97af1e"
      },
      "source": [
        "### 3.3) Create the Testing Dataset"
      ]
    },
    {
      "cell_type": "code",
      "execution_count": 6,
      "id": "6450db87-6868-4d81-b44f-7cefc59ffd30",
      "metadata": {
        "id": "6450db87-6868-4d81-b44f-7cefc59ffd30",
        "outputId": "48bc47da-c3f1-4dd6-bc2d-3bf2c2358c8e",
        "colab": {
          "base_uri": "https://localhost:8080/"
        }
      },
      "outputs": [
        {
          "output_type": "stream",
          "name": "stdout",
          "text": [
            "/usr/local/lib/python3.11/dist-packages/ufs2arco/sources/cloud_zarr.py:36: FutureWarning: In a future version of xarray decode_timedelta will default to False rather than None. To silence this warning, set decode_timedelta to True, False, or a 'CFTimedeltaCoder' instance.\n",
            "  xds = xr.open_zarr(\n"
          ]
        }
      ],
      "source": [
        "!ufs2arco {test_yaml_path}"
      ]
    },
    {
      "cell_type": "markdown",
      "source": [
        "# 4) Model Setup & Training"
      ],
      "metadata": {
        "id": "JMzu2Ldm8WNc"
      },
      "id": "JMzu2Ldm8WNc"
    },
    {
      "cell_type": "markdown",
      "source": [
        "### 4.1) Environment Variables\n",
        "\n",
        "- Anemoi requires a \"base seed\" and a SLURM job ID.\n",
        "  - The base seed is used to initialize model weights. Changing the seed will result in different initial model parameters.\n",
        "  - The SLURM job ID is required, even if you are not on SLURM (just leave it as \"0\").\n",
        "- Hydra can be configured to output more complete tracebacks for debugging purposes.\n"
      ],
      "metadata": {
        "id": "uSfdW3Ub8oJr"
      },
      "id": "uSfdW3Ub8oJr"
    },
    {
      "cell_type": "code",
      "source": [
        "### Required ###\n",
        "os.environ[\"ANEMOI_BASE_SEED\"] = \"42\"\n",
        "os.environ[\"SLURM_JOB_ID\"] = \"0\"\n",
        "\n",
        "### Optional ###\n",
        "os.environ['HYDRA_FULL_ERROR'] = \"1\"  # for debugging"
      ],
      "metadata": {
        "id": "MkPPZrVt83ys"
      },
      "id": "MkPPZrVt83ys",
      "execution_count": 9,
      "outputs": []
    }
  ],
  "metadata": {
    "kernelspec": {
      "display_name": "Anemoi Workflow (ipykernel)",
      "language": "python",
      "name": "ipykernel"
    },
    "language_info": {
      "codemirror_mode": {
        "name": "ipython",
        "version": 3
      },
      "file_extension": ".py",
      "mimetype": "text/x-python",
      "name": "python",
      "nbconvert_exporter": "python",
      "pygments_lexer": "ipython3",
      "version": "3.11.13"
    },
    "colab": {
      "provenance": [],
      "include_colab_link": true
    }
  },
  "nbformat": 4,
  "nbformat_minor": 5
}