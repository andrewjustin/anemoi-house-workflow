{
 "cells": [
  {
   "cell_type": "markdown",
   "id": "7bb07c0c-6e0d-47b1-b1cd-ffe918a41c2d",
   "metadata": {},
   "source": [
    "# Generating Datasets with ufs2arco for Anemoi Model Training\n",
    "\n",
    "##### This notebook will guide you through the process of generating training, validation, and testing datasets for Anemoi models.\n",
    "\n",
    "##### For questions, please contact andrew.justin@noaa.gov."
   ]
  },
  {
   "cell_type": "markdown",
   "id": "dd9d93ea-ffbb-4f4f-9fa7-423588461c90",
   "metadata": {},
   "source": [
    "## 1) Environment Setup"
   ]
  },
  {
   "cell_type": "code",
   "execution_count": 1,
   "id": "6333bcd8-1198-487d-bf89-9839c537c324",
   "metadata": {
    "scrolled": true
   },
   "outputs": [
    {
     "name": "stdout",
     "output_type": "stream",
     "text": [
      "Collecting ufs2arco==0.6\n",
      "  Using cached ufs2arco-0.6.0-py3-none-any.whl.metadata (1.8 kB)\n",
      "Collecting mpi4py\n",
      "  Using cached mpi4py-4.0.3-cp311-cp311-linux_x86_64.whl\n",
      "Collecting numpy (from ufs2arco==0.6)\n",
      "  Using cached numpy-2.3.1-cp311-cp311-manylinux_2_28_x86_64.whl.metadata (62 kB)\n",
      "Collecting xarray (from ufs2arco==0.6)\n",
      "  Using cached xarray-2025.6.1-py3-none-any.whl.metadata (12 kB)\n",
      "Collecting cf_xarray (from ufs2arco==0.6)\n",
      "  Using cached cf_xarray-0.10.6-py3-none-any.whl.metadata (16 kB)\n",
      "Collecting cftime (from ufs2arco==0.6)\n",
      "  Using cached cftime-1.6.4.post1-cp311-cp311-manylinux_2_17_x86_64.manylinux2014_x86_64.whl.metadata (8.7 kB)\n",
      "Collecting netCDF4 (from ufs2arco==0.6)\n",
      "  Using cached netCDF4-1.7.2-cp311-cp311-manylinux_2_17_x86_64.manylinux2014_x86_64.whl.metadata (1.8 kB)\n",
      "Collecting h5netcdf (from ufs2arco==0.6)\n",
      "  Using cached h5netcdf-1.6.1-py3-none-any.whl.metadata (13 kB)\n",
      "Collecting zarr<3 (from ufs2arco==0.6)\n",
      "  Using cached zarr-2.18.7-py3-none-any.whl.metadata (5.8 kB)\n",
      "Collecting cfgrib (from ufs2arco==0.6)\n",
      "  Using cached cfgrib-0.9.15.0-py3-none-any.whl.metadata (55 kB)\n",
      "Collecting bottleneck (from ufs2arco==0.6)\n",
      "  Using cached bottleneck-1.5.0-cp311-cp311-manylinux_2_5_x86_64.manylinux1_x86_64.manylinux_2_17_x86_64.manylinux2014_x86_64.whl.metadata (8.1 kB)\n",
      "Collecting dask[complete] (from ufs2arco==0.6)\n",
      "  Using cached dask-2025.5.1-py3-none-any.whl.metadata (3.8 kB)\n",
      "Collecting fsspec (from ufs2arco==0.6)\n",
      "  Using cached fsspec-2025.5.1-py3-none-any.whl.metadata (11 kB)\n",
      "Collecting s3fs (from ufs2arco==0.6)\n",
      "  Using cached s3fs-2025.5.1-py3-none-any.whl.metadata (1.9 kB)\n",
      "Collecting gcsfs (from ufs2arco==0.6)\n",
      "  Using cached gcsfs-2025.5.1-py2.py3-none-any.whl.metadata (1.9 kB)\n",
      "Collecting asciitree (from zarr<3->ufs2arco==0.6)\n",
      "  Using cached asciitree-0.3.3-py3-none-any.whl\n",
      "Collecting fasteners (from zarr<3->ufs2arco==0.6)\n",
      "  Using cached fasteners-0.19-py3-none-any.whl.metadata (4.9 kB)\n",
      "Collecting numcodecs!=0.14.0,!=0.14.1,<0.16,>=0.10.0 (from zarr<3->ufs2arco==0.6)\n",
      "  Using cached numcodecs-0.15.1-cp311-cp311-manylinux_2_17_x86_64.manylinux2014_x86_64.whl.metadata (2.9 kB)\n",
      "Collecting deprecated (from numcodecs!=0.14.0,!=0.14.1,<0.16,>=0.10.0->zarr<3->ufs2arco==0.6)\n",
      "  Using cached Deprecated-1.2.18-py2.py3-none-any.whl.metadata (5.7 kB)\n",
      "Requirement already satisfied: packaging>=23.2 in /home/andrewjustin/miniconda3/envs/ufs2arco/lib/python3.11/site-packages (from xarray->ufs2arco==0.6) (25.0)\n",
      "Collecting pandas>=2.1 (from xarray->ufs2arco==0.6)\n",
      "  Using cached pandas-2.3.0-cp311-cp311-manylinux_2_17_x86_64.manylinux2014_x86_64.whl.metadata (91 kB)\n",
      "Requirement already satisfied: python-dateutil>=2.8.2 in /home/andrewjustin/miniconda3/envs/ufs2arco/lib/python3.11/site-packages (from pandas>=2.1->xarray->ufs2arco==0.6) (2.9.0.post0)\n",
      "Requirement already satisfied: pytz>=2020.1 in /home/andrewjustin/miniconda3/envs/ufs2arco/lib/python3.11/site-packages (from pandas>=2.1->xarray->ufs2arco==0.6) (2025.2)\n",
      "Collecting tzdata>=2022.7 (from pandas>=2.1->xarray->ufs2arco==0.6)\n",
      "  Using cached tzdata-2025.2-py2.py3-none-any.whl.metadata (1.4 kB)\n",
      "Requirement already satisfied: six>=1.5 in /home/andrewjustin/miniconda3/envs/ufs2arco/lib/python3.11/site-packages (from python-dateutil>=2.8.2->pandas>=2.1->xarray->ufs2arco==0.6) (1.17.0)\n",
      "Requirement already satisfied: attrs>=19.2 in /home/andrewjustin/miniconda3/envs/ufs2arco/lib/python3.11/site-packages (from cfgrib->ufs2arco==0.6) (25.3.0)\n",
      "Collecting click (from cfgrib->ufs2arco==0.6)\n",
      "  Using cached click-8.2.1-py3-none-any.whl.metadata (2.5 kB)\n",
      "Collecting eccodes>=0.9.8 (from cfgrib->ufs2arco==0.6)\n",
      "  Using cached eccodes-2.41.0-cp311-cp311-manylinux_2_28_x86_64.whl.metadata (14 kB)\n",
      "Requirement already satisfied: cffi in /home/andrewjustin/miniconda3/envs/ufs2arco/lib/python3.11/site-packages (from eccodes>=0.9.8->cfgrib->ufs2arco==0.6) (1.17.1)\n",
      "Collecting findlibs (from eccodes>=0.9.8->cfgrib->ufs2arco==0.6)\n",
      "  Using cached findlibs-0.1.1-py3-none-any.whl.metadata (3.6 kB)\n",
      "Requirement already satisfied: pycparser in /home/andrewjustin/miniconda3/envs/ufs2arco/lib/python3.11/site-packages (from cffi->eccodes>=0.9.8->cfgrib->ufs2arco==0.6) (2.22)\n",
      "Collecting cloudpickle>=3.0.0 (from dask[complete]->ufs2arco==0.6)\n",
      "  Using cached cloudpickle-3.1.1-py3-none-any.whl.metadata (7.1 kB)\n",
      "Collecting partd>=1.4.0 (from dask[complete]->ufs2arco==0.6)\n",
      "  Using cached partd-1.4.2-py3-none-any.whl.metadata (4.6 kB)\n",
      "Requirement already satisfied: pyyaml>=5.3.1 in /home/andrewjustin/miniconda3/envs/ufs2arco/lib/python3.11/site-packages (from dask[complete]->ufs2arco==0.6) (6.0.2)\n",
      "Collecting toolz>=0.10.0 (from dask[complete]->ufs2arco==0.6)\n",
      "  Using cached toolz-1.0.0-py3-none-any.whl.metadata (5.1 kB)\n",
      "Requirement already satisfied: importlib_metadata>=4.13.0 in /home/andrewjustin/miniconda3/envs/ufs2arco/lib/python3.11/site-packages (from dask[complete]->ufs2arco==0.6) (8.7.0)\n",
      "Collecting pyarrow>=14.0.1 (from dask[complete]->ufs2arco==0.6)\n",
      "  Using cached pyarrow-20.0.0-cp311-cp311-manylinux_2_28_x86_64.whl.metadata (3.3 kB)\n",
      "Collecting lz4>=4.3.2 (from dask[complete]->ufs2arco==0.6)\n",
      "  Using cached lz4-4.4.4-cp311-cp311-manylinux_2_17_x86_64.manylinux2014_x86_64.whl.metadata (3.8 kB)\n",
      "Requirement already satisfied: zipp>=3.20 in /home/andrewjustin/miniconda3/envs/ufs2arco/lib/python3.11/site-packages (from importlib_metadata>=4.13.0->dask[complete]->ufs2arco==0.6) (3.23.0)\n",
      "Collecting locket (from partd>=1.4.0->dask[complete]->ufs2arco==0.6)\n",
      "  Using cached locket-1.0.0-py2.py3-none-any.whl.metadata (2.8 kB)\n",
      "Collecting distributed==2025.5.1 (from dask[complete]->ufs2arco==0.6)\n",
      "  Using cached distributed-2025.5.1-py3-none-any.whl.metadata (3.4 kB)\n",
      "Collecting bokeh>=3.1.0 (from dask[complete]->ufs2arco==0.6)\n",
      "  Using cached bokeh-3.7.3-py3-none-any.whl.metadata (12 kB)\n",
      "Requirement already satisfied: jinja2>=2.10.3 in /home/andrewjustin/miniconda3/envs/ufs2arco/lib/python3.11/site-packages (from dask[complete]->ufs2arco==0.6) (3.1.6)\n",
      "Collecting msgpack>=1.0.2 (from distributed==2025.5.1->dask[complete]->ufs2arco==0.6)\n",
      "  Using cached msgpack-1.1.1-cp311-cp311-manylinux_2_17_x86_64.manylinux2014_x86_64.whl.metadata (8.4 kB)\n",
      "Requirement already satisfied: psutil>=5.8.0 in /home/andrewjustin/miniconda3/envs/ufs2arco/lib/python3.11/site-packages (from distributed==2025.5.1->dask[complete]->ufs2arco==0.6) (7.0.0)\n",
      "Collecting sortedcontainers>=2.0.5 (from distributed==2025.5.1->dask[complete]->ufs2arco==0.6)\n",
      "  Using cached sortedcontainers-2.4.0-py2.py3-none-any.whl.metadata (10 kB)\n",
      "Collecting tblib>=1.6.0 (from distributed==2025.5.1->dask[complete]->ufs2arco==0.6)\n",
      "  Using cached tblib-3.1.0-py3-none-any.whl.metadata (25 kB)\n",
      "Requirement already satisfied: tornado>=6.2.0 in /home/andrewjustin/miniconda3/envs/ufs2arco/lib/python3.11/site-packages (from distributed==2025.5.1->dask[complete]->ufs2arco==0.6) (6.5.1)\n",
      "Requirement already satisfied: urllib3>=1.26.5 in /home/andrewjustin/miniconda3/envs/ufs2arco/lib/python3.11/site-packages (from distributed==2025.5.1->dask[complete]->ufs2arco==0.6) (2.5.0)\n",
      "Collecting zict>=3.0.0 (from distributed==2025.5.1->dask[complete]->ufs2arco==0.6)\n",
      "  Using cached zict-3.0.0-py2.py3-none-any.whl.metadata (899 bytes)\n",
      "Collecting contourpy>=1.2 (from bokeh>=3.1.0->dask[complete]->ufs2arco==0.6)\n",
      "  Using cached contourpy-1.3.2-cp311-cp311-manylinux_2_17_x86_64.manylinux2014_x86_64.whl.metadata (5.5 kB)\n",
      "Collecting narwhals>=1.13 (from bokeh>=3.1.0->dask[complete]->ufs2arco==0.6)\n",
      "  Using cached narwhals-1.44.0-py3-none-any.whl.metadata (11 kB)\n",
      "Collecting pillow>=7.1.0 (from bokeh>=3.1.0->dask[complete]->ufs2arco==0.6)\n",
      "  Using cached pillow-11.2.1-cp311-cp311-manylinux_2_28_x86_64.whl.metadata (8.9 kB)\n",
      "Collecting xyzservices>=2021.09.1 (from bokeh>=3.1.0->dask[complete]->ufs2arco==0.6)\n",
      "  Using cached xyzservices-2025.4.0-py3-none-any.whl.metadata (4.3 kB)\n",
      "Requirement already satisfied: MarkupSafe>=2.0 in /home/andrewjustin/miniconda3/envs/ufs2arco/lib/python3.11/site-packages (from jinja2>=2.10.3->dask[complete]->ufs2arco==0.6) (3.0.2)\n",
      "Collecting wrapt<2,>=1.10 (from deprecated->numcodecs!=0.14.0,!=0.14.1,<0.16,>=0.10.0->zarr<3->ufs2arco==0.6)\n",
      "  Using cached wrapt-1.17.2-cp311-cp311-manylinux_2_5_x86_64.manylinux1_x86_64.manylinux_2_17_x86_64.manylinux2014_x86_64.whl.metadata (6.4 kB)\n",
      "Collecting aiohttp!=4.0.0a0,!=4.0.0a1 (from gcsfs->ufs2arco==0.6)\n",
      "  Using cached aiohttp-3.12.13-cp311-cp311-manylinux_2_17_x86_64.manylinux2014_x86_64.whl.metadata (7.6 kB)\n",
      "Requirement already satisfied: decorator>4.1.2 in /home/andrewjustin/miniconda3/envs/ufs2arco/lib/python3.11/site-packages (from gcsfs->ufs2arco==0.6) (5.2.1)\n",
      "Collecting google-auth>=1.2 (from gcsfs->ufs2arco==0.6)\n",
      "  Using cached google_auth-2.40.3-py2.py3-none-any.whl.metadata (6.2 kB)\n",
      "Collecting google-auth-oauthlib (from gcsfs->ufs2arco==0.6)\n",
      "  Using cached google_auth_oauthlib-1.2.2-py3-none-any.whl.metadata (2.7 kB)\n",
      "Collecting google-cloud-storage (from gcsfs->ufs2arco==0.6)\n",
      "  Using cached google_cloud_storage-3.1.1-py3-none-any.whl.metadata (13 kB)\n",
      "Requirement already satisfied: requests in /home/andrewjustin/miniconda3/envs/ufs2arco/lib/python3.11/site-packages (from gcsfs->ufs2arco==0.6) (2.32.4)\n",
      "Collecting aiohappyeyeballs>=2.5.0 (from aiohttp!=4.0.0a0,!=4.0.0a1->gcsfs->ufs2arco==0.6)\n",
      "  Using cached aiohappyeyeballs-2.6.1-py3-none-any.whl.metadata (5.9 kB)\n",
      "Collecting aiosignal>=1.1.2 (from aiohttp!=4.0.0a0,!=4.0.0a1->gcsfs->ufs2arco==0.6)\n",
      "  Using cached aiosignal-1.3.2-py2.py3-none-any.whl.metadata (3.8 kB)\n",
      "Collecting frozenlist>=1.1.1 (from aiohttp!=4.0.0a0,!=4.0.0a1->gcsfs->ufs2arco==0.6)\n",
      "  Using cached frozenlist-1.7.0-cp311-cp311-manylinux_2_5_x86_64.manylinux1_x86_64.manylinux_2_17_x86_64.manylinux2014_x86_64.whl.metadata (18 kB)\n",
      "Collecting multidict<7.0,>=4.5 (from aiohttp!=4.0.0a0,!=4.0.0a1->gcsfs->ufs2arco==0.6)\n",
      "  Using cached multidict-6.5.0-cp311-cp311-manylinux_2_17_x86_64.manylinux2014_x86_64.whl.metadata (5.3 kB)\n",
      "Collecting propcache>=0.2.0 (from aiohttp!=4.0.0a0,!=4.0.0a1->gcsfs->ufs2arco==0.6)\n",
      "  Using cached propcache-0.3.2-cp311-cp311-manylinux_2_17_x86_64.manylinux2014_x86_64.whl.metadata (12 kB)\n",
      "Collecting yarl<2.0,>=1.17.0 (from aiohttp!=4.0.0a0,!=4.0.0a1->gcsfs->ufs2arco==0.6)\n",
      "  Using cached yarl-1.20.1-cp311-cp311-manylinux_2_17_x86_64.manylinux2014_x86_64.whl.metadata (73 kB)\n",
      "Requirement already satisfied: idna>=2.0 in /home/andrewjustin/miniconda3/envs/ufs2arco/lib/python3.11/site-packages (from yarl<2.0,>=1.17.0->aiohttp!=4.0.0a0,!=4.0.0a1->gcsfs->ufs2arco==0.6) (3.10)\n",
      "Collecting cachetools<6.0,>=2.0.0 (from google-auth>=1.2->gcsfs->ufs2arco==0.6)\n",
      "  Using cached cachetools-5.5.2-py3-none-any.whl.metadata (5.4 kB)\n",
      "Collecting pyasn1-modules>=0.2.1 (from google-auth>=1.2->gcsfs->ufs2arco==0.6)\n",
      "  Using cached pyasn1_modules-0.4.2-py3-none-any.whl.metadata (3.5 kB)\n",
      "Collecting rsa<5,>=3.1.4 (from google-auth>=1.2->gcsfs->ufs2arco==0.6)\n",
      "  Using cached rsa-4.9.1-py3-none-any.whl.metadata (5.6 kB)\n",
      "Collecting pyasn1>=0.1.3 (from rsa<5,>=3.1.4->google-auth>=1.2->gcsfs->ufs2arco==0.6)\n",
      "  Using cached pyasn1-0.6.1-py3-none-any.whl.metadata (8.4 kB)\n",
      "Collecting requests-oauthlib>=0.7.0 (from google-auth-oauthlib->gcsfs->ufs2arco==0.6)\n",
      "  Using cached requests_oauthlib-2.0.0-py2.py3-none-any.whl.metadata (11 kB)\n",
      "Collecting oauthlib>=3.0.0 (from requests-oauthlib>=0.7.0->google-auth-oauthlib->gcsfs->ufs2arco==0.6)\n",
      "  Using cached oauthlib-3.3.1-py3-none-any.whl.metadata (7.9 kB)\n",
      "Requirement already satisfied: charset_normalizer<4,>=2 in /home/andrewjustin/miniconda3/envs/ufs2arco/lib/python3.11/site-packages (from requests->gcsfs->ufs2arco==0.6) (3.4.2)\n",
      "Requirement already satisfied: certifi>=2017.4.17 in /home/andrewjustin/miniconda3/envs/ufs2arco/lib/python3.11/site-packages (from requests->gcsfs->ufs2arco==0.6) (2025.6.15)\n",
      "Collecting google-api-core<3.0.0,>=2.15.0 (from google-cloud-storage->gcsfs->ufs2arco==0.6)\n",
      "  Using cached google_api_core-2.25.1-py3-none-any.whl.metadata (3.0 kB)\n",
      "Collecting google-cloud-core<3.0.0,>=2.4.2 (from google-cloud-storage->gcsfs->ufs2arco==0.6)\n",
      "  Using cached google_cloud_core-2.4.3-py2.py3-none-any.whl.metadata (2.7 kB)\n",
      "Collecting google-resumable-media<3.0.0,>=2.7.2 (from google-cloud-storage->gcsfs->ufs2arco==0.6)\n",
      "  Using cached google_resumable_media-2.7.2-py2.py3-none-any.whl.metadata (2.2 kB)\n",
      "Collecting google-crc32c<2.0.0,>=1.1.3 (from google-cloud-storage->gcsfs->ufs2arco==0.6)\n",
      "  Using cached google_crc32c-1.7.1-cp311-cp311-manylinux_2_17_x86_64.manylinux2014_x86_64.whl.metadata (2.3 kB)\n",
      "Collecting googleapis-common-protos<2.0.0,>=1.56.2 (from google-api-core<3.0.0,>=2.15.0->google-cloud-storage->gcsfs->ufs2arco==0.6)\n",
      "  Using cached googleapis_common_protos-1.70.0-py3-none-any.whl.metadata (9.3 kB)\n",
      "Collecting protobuf!=3.20.0,!=3.20.1,!=4.21.0,!=4.21.1,!=4.21.2,!=4.21.3,!=4.21.4,!=4.21.5,<7.0.0,>=3.19.5 (from google-api-core<3.0.0,>=2.15.0->google-cloud-storage->gcsfs->ufs2arco==0.6)\n",
      "  Using cached protobuf-6.31.1-cp39-abi3-manylinux2014_x86_64.whl.metadata (593 bytes)\n",
      "Collecting proto-plus<2.0.0,>=1.22.3 (from google-api-core<3.0.0,>=2.15.0->google-cloud-storage->gcsfs->ufs2arco==0.6)\n",
      "  Using cached proto_plus-1.26.1-py3-none-any.whl.metadata (2.2 kB)\n",
      "Collecting h5py (from h5netcdf->ufs2arco==0.6)\n",
      "  Using cached h5py-3.14.0-cp311-cp311-manylinux_2_17_x86_64.manylinux2014_x86_64.whl.metadata (2.7 kB)\n",
      "Collecting aiobotocore<3.0.0,>=2.5.4 (from s3fs->ufs2arco==0.6)\n",
      "  Using cached aiobotocore-2.23.0-py3-none-any.whl.metadata (24 kB)\n",
      "Collecting aioitertools<1.0.0,>=0.5.1 (from aiobotocore<3.0.0,>=2.5.4->s3fs->ufs2arco==0.6)\n",
      "  Using cached aioitertools-0.12.0-py3-none-any.whl.metadata (3.8 kB)\n",
      "Collecting botocore<1.38.28,>=1.38.23 (from aiobotocore<3.0.0,>=2.5.4->s3fs->ufs2arco==0.6)\n",
      "  Using cached botocore-1.38.27-py3-none-any.whl.metadata (5.7 kB)\n",
      "Collecting jmespath<2.0.0,>=0.7.1 (from aiobotocore<3.0.0,>=2.5.4->s3fs->ufs2arco==0.6)\n",
      "  Using cached jmespath-1.0.1-py3-none-any.whl.metadata (7.6 kB)\n",
      "Using cached ufs2arco-0.6.0-py3-none-any.whl (63 kB)\n",
      "Using cached zarr-2.18.7-py3-none-any.whl (211 kB)\n",
      "Using cached numcodecs-0.15.1-cp311-cp311-manylinux_2_17_x86_64.manylinux2014_x86_64.whl (8.9 MB)\n",
      "Using cached numpy-2.3.1-cp311-cp311-manylinux_2_28_x86_64.whl (16.9 MB)\n",
      "Using cached bottleneck-1.5.0-cp311-cp311-manylinux_2_5_x86_64.manylinux1_x86_64.manylinux_2_17_x86_64.manylinux2014_x86_64.whl (361 kB)\n",
      "Using cached cf_xarray-0.10.6-py3-none-any.whl (70 kB)\n",
      "Using cached xarray-2025.6.1-py3-none-any.whl (1.3 MB)\n",
      "Using cached pandas-2.3.0-cp311-cp311-manylinux_2_17_x86_64.manylinux2014_x86_64.whl (12.4 MB)\n",
      "Using cached tzdata-2025.2-py2.py3-none-any.whl (347 kB)\n",
      "Using cached cfgrib-0.9.15.0-py3-none-any.whl (48 kB)\n",
      "Using cached eccodes-2.41.0-cp311-cp311-manylinux_2_28_x86_64.whl (7.4 MB)\n",
      "Using cached cftime-1.6.4.post1-cp311-cp311-manylinux_2_17_x86_64.manylinux2014_x86_64.whl (1.4 MB)\n",
      "Using cached click-8.2.1-py3-none-any.whl (102 kB)\n",
      "Using cached dask-2025.5.1-py3-none-any.whl (1.5 MB)\n",
      "Using cached cloudpickle-3.1.1-py3-none-any.whl (20 kB)\n",
      "Using cached fsspec-2025.5.1-py3-none-any.whl (199 kB)\n",
      "Using cached lz4-4.4.4-cp311-cp311-manylinux_2_17_x86_64.manylinux2014_x86_64.whl (1.3 MB)\n",
      "Using cached partd-1.4.2-py3-none-any.whl (18 kB)\n",
      "Using cached pyarrow-20.0.0-cp311-cp311-manylinux_2_28_x86_64.whl (42.3 MB)\n",
      "Using cached toolz-1.0.0-py3-none-any.whl (56 kB)\n",
      "Using cached distributed-2025.5.1-py3-none-any.whl (1.0 MB)\n",
      "Using cached bokeh-3.7.3-py3-none-any.whl (7.0 MB)\n",
      "Using cached contourpy-1.3.2-cp311-cp311-manylinux_2_17_x86_64.manylinux2014_x86_64.whl (326 kB)\n",
      "Using cached locket-1.0.0-py2.py3-none-any.whl (4.4 kB)\n",
      "Using cached msgpack-1.1.1-cp311-cp311-manylinux_2_17_x86_64.manylinux2014_x86_64.whl (429 kB)\n",
      "Using cached narwhals-1.44.0-py3-none-any.whl (365 kB)\n",
      "Using cached pillow-11.2.1-cp311-cp311-manylinux_2_28_x86_64.whl (4.6 MB)\n",
      "Using cached sortedcontainers-2.4.0-py2.py3-none-any.whl (29 kB)\n",
      "Using cached tblib-3.1.0-py3-none-any.whl (12 kB)\n",
      "Using cached xyzservices-2025.4.0-py3-none-any.whl (90 kB)\n",
      "Using cached zict-3.0.0-py2.py3-none-any.whl (43 kB)\n",
      "Using cached Deprecated-1.2.18-py2.py3-none-any.whl (10.0 kB)\n",
      "Using cached wrapt-1.17.2-cp311-cp311-manylinux_2_5_x86_64.manylinux1_x86_64.manylinux_2_17_x86_64.manylinux2014_x86_64.whl (83 kB)\n",
      "Using cached fasteners-0.19-py3-none-any.whl (18 kB)\n",
      "Using cached findlibs-0.1.1-py3-none-any.whl (10 kB)\n",
      "Using cached gcsfs-2025.5.1-py2.py3-none-any.whl (36 kB)\n",
      "Using cached aiohttp-3.12.13-cp311-cp311-manylinux_2_17_x86_64.manylinux2014_x86_64.whl (1.7 MB)\n",
      "Using cached multidict-6.5.0-cp311-cp311-manylinux_2_17_x86_64.manylinux2014_x86_64.whl (231 kB)\n",
      "Using cached yarl-1.20.1-cp311-cp311-manylinux_2_17_x86_64.manylinux2014_x86_64.whl (348 kB)\n",
      "Using cached aiohappyeyeballs-2.6.1-py3-none-any.whl (15 kB)\n",
      "Using cached aiosignal-1.3.2-py2.py3-none-any.whl (7.6 kB)\n",
      "Using cached frozenlist-1.7.0-cp311-cp311-manylinux_2_5_x86_64.manylinux1_x86_64.manylinux_2_17_x86_64.manylinux2014_x86_64.whl (235 kB)\n",
      "Using cached google_auth-2.40.3-py2.py3-none-any.whl (216 kB)\n",
      "Using cached cachetools-5.5.2-py3-none-any.whl (10 kB)\n",
      "Using cached rsa-4.9.1-py3-none-any.whl (34 kB)\n",
      "Using cached propcache-0.3.2-cp311-cp311-manylinux_2_17_x86_64.manylinux2014_x86_64.whl (213 kB)\n",
      "Using cached pyasn1-0.6.1-py3-none-any.whl (83 kB)\n",
      "Using cached pyasn1_modules-0.4.2-py3-none-any.whl (181 kB)\n",
      "Using cached google_auth_oauthlib-1.2.2-py3-none-any.whl (19 kB)\n",
      "Using cached requests_oauthlib-2.0.0-py2.py3-none-any.whl (24 kB)\n",
      "Using cached oauthlib-3.3.1-py3-none-any.whl (160 kB)\n",
      "Using cached google_cloud_storage-3.1.1-py3-none-any.whl (175 kB)\n",
      "Using cached google_api_core-2.25.1-py3-none-any.whl (160 kB)\n",
      "Using cached google_cloud_core-2.4.3-py2.py3-none-any.whl (29 kB)\n",
      "Using cached google_crc32c-1.7.1-cp311-cp311-manylinux_2_17_x86_64.manylinux2014_x86_64.whl (32 kB)\n",
      "Using cached google_resumable_media-2.7.2-py2.py3-none-any.whl (81 kB)\n",
      "Using cached googleapis_common_protos-1.70.0-py3-none-any.whl (294 kB)\n",
      "Using cached proto_plus-1.26.1-py3-none-any.whl (50 kB)\n",
      "Using cached protobuf-6.31.1-cp39-abi3-manylinux2014_x86_64.whl (321 kB)\n",
      "Using cached h5netcdf-1.6.1-py3-none-any.whl (49 kB)\n",
      "Using cached h5py-3.14.0-cp311-cp311-manylinux_2_17_x86_64.manylinux2014_x86_64.whl (4.5 MB)\n",
      "Using cached netCDF4-1.7.2-cp311-cp311-manylinux_2_17_x86_64.manylinux2014_x86_64.whl (9.3 MB)\n",
      "Using cached s3fs-2025.5.1-py3-none-any.whl (30 kB)\n",
      "Using cached aiobotocore-2.23.0-py3-none-any.whl (84 kB)\n",
      "Using cached aioitertools-0.12.0-py3-none-any.whl (24 kB)\n",
      "Using cached botocore-1.38.27-py3-none-any.whl (13.6 MB)\n",
      "Using cached jmespath-1.0.1-py3-none-any.whl (20 kB)\n",
      "Installing collected packages: sortedcontainers, findlibs, asciitree, zict, xyzservices, wrapt, tzdata, toolz, tblib, pyasn1, pyarrow, protobuf, propcache, pillow, oauthlib, numpy, narwhals, multidict, msgpack, mpi4py, lz4, locket, jmespath, google-crc32c, fsspec, frozenlist, fasteners, cloudpickle, click, cachetools, aioitertools, aiohappyeyeballs, yarl, rsa, requests-oauthlib, pyasn1-modules, proto-plus, partd, pandas, h5py, googleapis-common-protos, google-resumable-media, eccodes, deprecated, contourpy, cftime, bottleneck, botocore, aiosignal, xarray, numcodecs, netCDF4, h5netcdf, google-auth, dask, cfgrib, bokeh, aiohttp, zarr, google-auth-oauthlib, google-api-core, distributed, cf_xarray, aiobotocore, s3fs, google-cloud-core, google-cloud-storage, gcsfs, ufs2arco\n",
      "\u001b[2K   \u001b[90m━━━━━━━━━━━━━━━━━━━━━━━━━━━━━━━━━━━━━━━━\u001b[0m \u001b[32m69/69\u001b[0m [ufs2arco]ufs2arco]aiobotocore]ore]\n",
      "\u001b[1A\u001b[2KSuccessfully installed aiobotocore-2.23.0 aiohappyeyeballs-2.6.1 aiohttp-3.12.13 aioitertools-0.12.0 aiosignal-1.3.2 asciitree-0.3.3 bokeh-3.7.3 botocore-1.38.27 bottleneck-1.5.0 cachetools-5.5.2 cf_xarray-0.10.6 cfgrib-0.9.15.0 cftime-1.6.4.post1 click-8.2.1 cloudpickle-3.1.1 contourpy-1.3.2 dask-2025.5.1 deprecated-1.2.18 distributed-2025.5.1 eccodes-2.41.0 fasteners-0.19 findlibs-0.1.1 frozenlist-1.7.0 fsspec-2025.5.1 gcsfs-2025.5.1 google-api-core-2.25.1 google-auth-2.40.3 google-auth-oauthlib-1.2.2 google-cloud-core-2.4.3 google-cloud-storage-3.1.1 google-crc32c-1.7.1 google-resumable-media-2.7.2 googleapis-common-protos-1.70.0 h5netcdf-1.6.1 h5py-3.14.0 jmespath-1.0.1 locket-1.0.0 lz4-4.4.4 mpi4py-4.0.3 msgpack-1.1.1 multidict-6.5.0 narwhals-1.44.0 netCDF4-1.7.2 numcodecs-0.15.1 numpy-2.3.1 oauthlib-3.3.1 pandas-2.3.0 partd-1.4.2 pillow-11.2.1 propcache-0.3.2 proto-plus-1.26.1 protobuf-6.31.1 pyarrow-20.0.0 pyasn1-0.6.1 pyasn1-modules-0.4.2 requests-oauthlib-2.0.0 rsa-4.9.1 s3fs-2025.5.1 sortedcontainers-2.4.0 tblib-3.1.0 toolz-1.0.0 tzdata-2025.2 ufs2arco-0.6.0 wrapt-1.17.2 xarray-2025.6.1 xyzservices-2025.4.0 yarl-1.20.1 zarr-2.18.7 zict-3.0.0\n"
     ]
    }
   ],
   "source": [
    "!pip install ufs2arco==0.6 mpi4py\n",
    "\n",
    "import time"
   ]
  },
  {
   "cell_type": "markdown",
   "id": "ea034d3d-cf89-4601-b200-8d02fd328cbb",
   "metadata": {},
   "source": [
    "## 2) Dataset YAML Paths"
   ]
  },
  {
   "cell_type": "code",
   "execution_count": 2,
   "id": "863d73c4-89f5-4f78-9090-d0f7f835cccf",
   "metadata": {},
   "outputs": [],
   "source": [
    "train_yaml_path = 'training.yaml'  # training YAML path\n",
    "valid_yaml_path = 'validation.yaml'  # validation YAML path\n",
    "test_yaml_path = 'testing.yaml'  # testing YAML path"
   ]
  },
  {
   "cell_type": "markdown",
   "id": "6fa3e3c4-bc91-46aa-b8e9-bc6648da22f0",
   "metadata": {},
   "source": [
    "The datasets will include data for the following timeframes at 3-hourly intervals:\n",
    "- **Training**: 0z 1 Jan 1994 - 21z 2 Jan 1994\n",
    "- **Validation**: 0z 3 Jan 1994 - 21z 4 Jan 1994\n",
    "- **Testing**: 0z 5 Jan 1994 - 21z 6 Jan 1994"
   ]
  },
  {
   "cell_type": "markdown",
   "id": "f457070d-3d90-4536-be19-a052da4f8f25",
   "metadata": {},
   "source": [
    "### 3.1) Create the Training Dataset"
   ]
  },
  {
   "cell_type": "code",
   "execution_count": 3,
   "id": "76a274fc-d916-49c0-9728-4143129629b4",
   "metadata": {},
   "outputs": [
    {
     "name": "stdout",
     "output_type": "stream",
     "text": [
      "/home/andrewjustin/miniconda3/envs/ufs2arco/lib/python3.11/site-packages/ufs2arco/sources/cloud_zarr.py:36: FutureWarning: In a future version, xarray will not decode timedelta values based on the presence of a timedelta-like units attribute by default. Instead it will rely on the presence of a timedelta64 dtype attribute, which is now xarray's default way of encoding timedelta64 values. To continue decoding timedeltas based on the presence of a timedelta-like units attribute, users will need to explicitly opt-in by passing True or CFTimedeltaCoder(decode_via_units=True) to decode_timedelta. To silence this warning, set decode_timedelta to True, False, or a 'CFTimedeltaCoder' instance.\n",
      "  xds = xr.open_zarr(\n",
      "ufs2arco training dataset: 1 min 11 sec\n"
     ]
    }
   ],
   "source": [
    "start_time = time.time()\n",
    "!ufs2arco {train_yaml_path}\n",
    "time_elapsed = time.gmtime(time.time() - start_time)\n",
    "print(f'ufs2arco training dataset: {time_elapsed.tm_min} min {time_elapsed.tm_sec} sec')"
   ]
  },
  {
   "cell_type": "markdown",
   "id": "1838d26b-5d3b-44bb-bf72-c8c819042c29",
   "metadata": {},
   "source": [
    "### 3.2) Create the Validation Dataset"
   ]
  },
  {
   "cell_type": "code",
   "execution_count": 4,
   "id": "390e574c-6f2a-45be-b551-8321da6903db",
   "metadata": {},
   "outputs": [
    {
     "name": "stdout",
     "output_type": "stream",
     "text": [
      "/home/andrewjustin/miniconda3/envs/ufs2arco/lib/python3.11/site-packages/ufs2arco/sources/cloud_zarr.py:36: FutureWarning: In a future version, xarray will not decode timedelta values based on the presence of a timedelta-like units attribute by default. Instead it will rely on the presence of a timedelta64 dtype attribute, which is now xarray's default way of encoding timedelta64 values. To continue decoding timedeltas based on the presence of a timedelta-like units attribute, users will need to explicitly opt-in by passing True or CFTimedeltaCoder(decode_via_units=True) to decode_timedelta. To silence this warning, set decode_timedelta to True, False, or a 'CFTimedeltaCoder' instance.\n",
      "  xds = xr.open_zarr(\n",
      "ufs2arco validation dataset: 1 min 6 sec\n"
     ]
    }
   ],
   "source": [
    "start_time = time.time()\n",
    "!ufs2arco {valid_yaml_path}\n",
    "time_elapsed = time.gmtime(time.time() - start_time)\n",
    "print(f'ufs2arco validation dataset: {time_elapsed.tm_min} min {time_elapsed.tm_sec} sec')"
   ]
  },
  {
   "cell_type": "markdown",
   "id": "08251df3-4048-4478-90af-d771fe97af1e",
   "metadata": {},
   "source": [
    "### 3.3) Create the Testing Dataset"
   ]
  },
  {
   "cell_type": "code",
   "execution_count": 5,
   "id": "6450db87-6868-4d81-b44f-7cefc59ffd30",
   "metadata": {},
   "outputs": [
    {
     "name": "stdout",
     "output_type": "stream",
     "text": [
      "/home/andrewjustin/miniconda3/envs/ufs2arco/lib/python3.11/site-packages/ufs2arco/sources/cloud_zarr.py:36: FutureWarning: In a future version, xarray will not decode timedelta values based on the presence of a timedelta-like units attribute by default. Instead it will rely on the presence of a timedelta64 dtype attribute, which is now xarray's default way of encoding timedelta64 values. To continue decoding timedeltas based on the presence of a timedelta-like units attribute, users will need to explicitly opt-in by passing True or CFTimedeltaCoder(decode_via_units=True) to decode_timedelta. To silence this warning, set decode_timedelta to True, False, or a 'CFTimedeltaCoder' instance.\n",
      "  xds = xr.open_zarr(\n",
      "ufs2arco test dataset: 1 min 9 sec\n"
     ]
    }
   ],
   "source": [
    "start_time = time.time()\n",
    "!ufs2arco {test_yaml_path}\n",
    "time_elapsed = time.gmtime(time.time() - start_time)\n",
    "print(f'ufs2arco test dataset: {time_elapsed.tm_min} min {time_elapsed.tm_sec} sec')"
   ]
  }
 ],
 "metadata": {
  "kernelspec": {
   "display_name": "Anemoi Workflow (ipykernel)",
   "language": "python",
   "name": "ipykernel"
  },
  "language_info": {
   "codemirror_mode": {
    "name": "ipython",
    "version": 3
   },
   "file_extension": ".py",
   "mimetype": "text/x-python",
   "name": "python",
   "nbconvert_exporter": "python",
   "pygments_lexer": "ipython3",
   "version": "3.11.13"
  }
 },
 "nbformat": 4,
 "nbformat_minor": 5
}
